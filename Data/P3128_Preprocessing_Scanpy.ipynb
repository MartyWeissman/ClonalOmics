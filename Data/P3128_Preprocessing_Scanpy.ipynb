{
 "cells": [
  {
   "cell_type": "markdown",
   "id": "professional-gallery",
   "metadata": {},
   "source": [
    "# Preprocessing P3128 with Scanpy\n",
    "\n",
    "This notebook is devoted to preprocessing the gene data from experiment P3128.  We load the metadata, expression matrices, and we load gene metadata (from the BioMart).  We put all this together into three Scanpy AnnData objects, and save them as loom files."
   ]
  },
  {
   "cell_type": "markdown",
   "id": "administrative-meeting",
   "metadata": {},
   "source": [
    "# Loading packages"
   ]
  },
  {
   "cell_type": "code",
   "execution_count": 1,
   "id": "affected-ranch",
   "metadata": {},
   "outputs": [
    {
     "name": "stdout",
     "output_type": "stream",
     "text": [
      "scanpy==1.7.1 anndata==0.7.6 umap==0.5.1 numpy==1.20.1 scipy==1.6.1 pandas==1.2.3 scikit-learn==0.24.1 statsmodels==0.12.2 python-igraph==0.8.3 louvain==0.7.0 leidenalg==0.8.3\n"
     ]
    }
   ],
   "source": [
    "import pandas as pd  # Pandas for data analysis.\n",
    "import numpy as np\n",
    "import matplotlib.pyplot as plt  # For basic plotting.\n",
    "import seaborn as sns # For pretty visualization in Seaborn.  See https://seaborn.pydata.org/\n",
    "from IPython.display import display # Pretty display of data frames.\n",
    "\n",
    "import scipy.stats as ss\n",
    "from sklearn import base\n",
    "from sklearn.feature_selection import chi2, f_classif\n",
    "\n",
    "import scanpy as sc\n",
    "sc.settings.verbosity = 1             # verbosity: errors (0), warnings (1), info (2), hints (3)\n",
    "sc.logging.print_header()\n",
    "sc.settings.set_figure_params(dpi=80, facecolor='white')\n",
    "\n",
    "# Put plots inline rather than in a pop-up.\n",
    "%matplotlib inline"
   ]
  },
  {
   "cell_type": "code",
   "execution_count": 2,
   "id": "confident-alberta",
   "metadata": {},
   "outputs": [],
   "source": [
    "file_prefix = 'Processed/'\n",
    "file_suffix = '.loom'"
   ]
  },
  {
   "cell_type": "code",
   "execution_count": 3,
   "id": "08c3165b",
   "metadata": {},
   "outputs": [],
   "source": [
    "def hrule(repchar = '=', length=80):\n",
    "    '''\n",
    "    A quick function to print a horizontal line.\n",
    "    '''\n",
    "    if len(repchar) == 1:\n",
    "        print(repchar*length)"
   ]
  },
  {
   "cell_type": "markdown",
   "id": "discrete-snake",
   "metadata": {},
   "source": [
    "# Loading data"
   ]
  },
  {
   "cell_type": "markdown",
   "id": "suffering-florida",
   "metadata": {},
   "source": [
    "## Getting gene data\n",
    "\n",
    "Gene data was downloaded [GRCh7 at the biomart](https://grch37.ensembl.org/info/data/biomart/index.html), and we work at the level of distinct Ensembl IDs.  Transcript length (used for TPM normalization) is obtained by averaging all entries with a given Ensembl ID."
   ]
  },
  {
   "cell_type": "code",
   "execution_count": 4,
   "id": "entitled-activity",
   "metadata": {},
   "outputs": [],
   "source": [
    "def get_genes(filename, verbose=True):\n",
    "    gene_raw = pd.read_csv(filename, sep='\\t', index_col=0, header=0, low_memory=False)\n",
    "    #gene_raw.columns = ['transcript_length', 'gene_name', 'GC_content','transcript stable ID', 'TSS']\n",
    "    if verbose:\n",
    "        print('{} genes found in {}.'.format(len(gene_raw), filename))\n",
    "    \n",
    "    gene_lengths = gene_raw['Transcript length (including UTRs and CDS)'].groupby(gene_raw.index).mean()\n",
    "    gene_GCs = gene_raw['Gene % GC content'].groupby(gene_raw.index).mean()\n",
    "    gene_df = pd.DataFrame(gene_lengths, index=gene_lengths.index)\n",
    "    gene_df.columns = ['transcript_length']\n",
    "    gene_df['GC_content'] = gene_GCs\n",
    "    gene_df['gene_name'] = gene_raw['Gene name'].groupby(gene_raw.index).first()\n",
    "    #gene_df['chrome'] = gene_raw['Chromosome/scaffold name'].groupby(gene_raw.index).first()\n",
    "    #gene_df['GO_term'] = gene_raw['GO term name'].groupby(gene_raw.index).first()\n",
    "    if verbose:\n",
    "        print('{} distinct Ensembl gene IDs found.'.format(len(gene_df)))\n",
    "        display(gene_df.head())\n",
    "    return gene_df"
   ]
  },
  {
   "cell_type": "code",
   "execution_count": 5,
   "id": "frank-burton",
   "metadata": {
    "scrolled": true
   },
   "outputs": [
    {
     "name": "stdout",
     "output_type": "stream",
     "text": [
      "215404 genes found in Raw/GRCh37_Biomart.txt.\n",
      "63677 distinct Ensembl gene IDs found.\n"
     ]
    },
    {
     "data": {
      "text/html": [
       "<div>\n",
       "<style scoped>\n",
       "    .dataframe tbody tr th:only-of-type {\n",
       "        vertical-align: middle;\n",
       "    }\n",
       "\n",
       "    .dataframe tbody tr th {\n",
       "        vertical-align: top;\n",
       "    }\n",
       "\n",
       "    .dataframe thead th {\n",
       "        text-align: right;\n",
       "    }\n",
       "</style>\n",
       "<table border=\"1\" class=\"dataframe\">\n",
       "  <thead>\n",
       "    <tr style=\"text-align: right;\">\n",
       "      <th></th>\n",
       "      <th>transcript_length</th>\n",
       "      <th>GC_content</th>\n",
       "      <th>gene_name</th>\n",
       "    </tr>\n",
       "    <tr>\n",
       "      <th>Gene stable ID</th>\n",
       "      <th></th>\n",
       "      <th></th>\n",
       "      <th></th>\n",
       "    </tr>\n",
       "  </thead>\n",
       "  <tbody>\n",
       "    <tr>\n",
       "      <th>ENSG00000000003</th>\n",
       "      <td>1350.333333</td>\n",
       "      <td>40.87</td>\n",
       "      <td>TSPAN6</td>\n",
       "    </tr>\n",
       "    <tr>\n",
       "      <th>ENSG00000000005</th>\n",
       "      <td>940.500000</td>\n",
       "      <td>40.80</td>\n",
       "      <td>TNMD</td>\n",
       "    </tr>\n",
       "    <tr>\n",
       "      <th>ENSG00000000419</th>\n",
       "      <td>974.714286</td>\n",
       "      <td>39.85</td>\n",
       "      <td>DPM1</td>\n",
       "    </tr>\n",
       "    <tr>\n",
       "      <th>ENSG00000000457</th>\n",
       "      <td>3274.400000</td>\n",
       "      <td>40.14</td>\n",
       "      <td>SCYL3</td>\n",
       "    </tr>\n",
       "    <tr>\n",
       "      <th>ENSG00000000460</th>\n",
       "      <td>2197.200000</td>\n",
       "      <td>39.22</td>\n",
       "      <td>C1orf112</td>\n",
       "    </tr>\n",
       "  </tbody>\n",
       "</table>\n",
       "</div>"
      ],
      "text/plain": [
       "                 transcript_length  GC_content gene_name\n",
       "Gene stable ID                                          \n",
       "ENSG00000000003        1350.333333       40.87    TSPAN6\n",
       "ENSG00000000005         940.500000       40.80      TNMD\n",
       "ENSG00000000419         974.714286       39.85      DPM1\n",
       "ENSG00000000457        3274.400000       40.14     SCYL3\n",
       "ENSG00000000460        2197.200000       39.22  C1orf112"
      ]
     },
     "metadata": {},
     "output_type": "display_data"
    }
   ],
   "source": [
    "gene_df = get_genes('Raw/GRCh37_Biomart.txt')"
   ]
  },
  {
   "cell_type": "markdown",
   "id": "accepted-robinson",
   "metadata": {},
   "source": [
    "## Getting cell metadata"
   ]
  },
  {
   "cell_type": "code",
   "execution_count": 6,
   "id": "weird-roots",
   "metadata": {},
   "outputs": [],
   "source": [
    "def get_meta(experiment, filename = '', report=True, invitro = True, invivo = False, bulks = False):\n",
    "    df = pd.read_csv(filename, sep=',', index_col=1, header=0, low_memory=False)\n",
    "    df = df.loc[df['Sample_ID'].notnull()] # Only keep cells with sample ID.\n",
    "    print('Discarding samples without Sample ID.  {} samples remaining.'.format(len(df)))\n",
    "    df['Project_ID'] = [sid[:5] for sid in df.index] \n",
    "    df = df[ df['Project_ID'] == experiment] # Only cells from the experiment.\n",
    "    print('{} samples found in experiment {}.'.format(len(df), experiment))\n",
    "    \n",
    "    df = df.loc[df['Clone_ID'].notnull()] # Only keep cells with Clone ID.\n",
    "    print('Discarding samples without Clone ID.  {} samples remaining.'.format(len(df)))\n",
    "    if invitro:\n",
    "        df = df.loc[df['Condition'] == 'In_Vitro'] \n",
    "        print('Discarding samples that are not in-vitro.  {} samples remaining'.format(len(df)))\n",
    "    elif invivo:\n",
    "        df = df.loc[df['Condition'] == 'In_Vivo'] \n",
    "        print('Discarding samples that are not in-vivo.  {} samples remaining'.format(len(df)))\n",
    "    df.drop('Sample_ID', axis=1, inplace=True)\n",
    "    df.index = [cn[:-1] for cn in df.index]\n",
    "    if bulks:\n",
    "        df = df[ df['Cell_Number'] > 1] # Include only bulks.\n",
    "        print('Discarding single cells.  {} bulks remaining'.format(len(df)))\n",
    "    else:\n",
    "        df = df[ df['Cell_Number'] == 1] # Get rid of bulks.\n",
    "        print('Discarding bulks.  {} single cells remaining'.format(len(df)))\n",
    "    if report:\n",
    "        if bulks:\n",
    "            print('{} bulks found in experiment {}'.format(len(df), experiment))\n",
    "        else:\n",
    "            print('{} single cells found in experiment {}'.format(len(df), experiment))\n",
    "        clones = df['Clone_ID'].unique()\n",
    "        print('{} Clones: {}'.format(len(clones), ', '.join(clones)))\n",
    "        print('The first five rows of the dataframe are below')\n",
    "        display(df[:5])\n",
    "    return df"
   ]
  },
  {
   "cell_type": "code",
   "execution_count": 7,
   "id": "isolated-atlanta",
   "metadata": {},
   "outputs": [
    {
     "name": "stdout",
     "output_type": "stream",
     "text": [
      "Discarding samples without Sample ID.  2345 samples remaining.\n",
      "563 samples found in experiment P3128.\n",
      "Discarding samples without Clone ID.  560 samples remaining.\n",
      "Discarding samples that are not in-vitro.  372 samples remaining\n",
      "Discarding bulks.  334 single cells remaining\n",
      "334 single cells found in experiment P3128\n",
      "24 Clones: D2, H3, D6, F7, A2, B6, C6, E7, B12, C2, H6, F11, B4, E8, D1, A7, D10, F6, A8, G3, F4, E2, B10, H4\n",
      "The first five rows of the dataframe are below\n"
     ]
    },
    {
     "data": {
      "text/html": [
       "<div>\n",
       "<style scoped>\n",
       "    .dataframe tbody tr th:only-of-type {\n",
       "        vertical-align: middle;\n",
       "    }\n",
       "\n",
       "    .dataframe tbody tr th {\n",
       "        vertical-align: top;\n",
       "    }\n",
       "\n",
       "    .dataframe thead th {\n",
       "        text-align: right;\n",
       "    }\n",
       "</style>\n",
       "<table border=\"1\" class=\"dataframe\">\n",
       "  <thead>\n",
       "    <tr style=\"text-align: right;\">\n",
       "      <th></th>\n",
       "      <th>Condition</th>\n",
       "      <th>Cell_Number</th>\n",
       "      <th>Clone_ID</th>\n",
       "      <th>Day</th>\n",
       "      <th>In_Vivo_Clone_ID</th>\n",
       "      <th>Project_ID</th>\n",
       "    </tr>\n",
       "  </thead>\n",
       "  <tbody>\n",
       "    <tr>\n",
       "      <th>P3128_1193</th>\n",
       "      <td>In_Vitro</td>\n",
       "      <td>1.0</td>\n",
       "      <td>D2</td>\n",
       "      <td>NaN</td>\n",
       "      <td>3.0</td>\n",
       "      <td>P3128</td>\n",
       "    </tr>\n",
       "    <tr>\n",
       "      <th>P3128_1194</th>\n",
       "      <td>In_Vitro</td>\n",
       "      <td>1.0</td>\n",
       "      <td>D2</td>\n",
       "      <td>NaN</td>\n",
       "      <td>3.0</td>\n",
       "      <td>P3128</td>\n",
       "    </tr>\n",
       "    <tr>\n",
       "      <th>P3128_1195</th>\n",
       "      <td>In_Vitro</td>\n",
       "      <td>1.0</td>\n",
       "      <td>D2</td>\n",
       "      <td>NaN</td>\n",
       "      <td>3.0</td>\n",
       "      <td>P3128</td>\n",
       "    </tr>\n",
       "    <tr>\n",
       "      <th>P3128_1196</th>\n",
       "      <td>In_Vitro</td>\n",
       "      <td>1.0</td>\n",
       "      <td>D2</td>\n",
       "      <td>NaN</td>\n",
       "      <td>3.0</td>\n",
       "      <td>P3128</td>\n",
       "    </tr>\n",
       "    <tr>\n",
       "      <th>P3128_1197</th>\n",
       "      <td>In_Vitro</td>\n",
       "      <td>1.0</td>\n",
       "      <td>D2</td>\n",
       "      <td>NaN</td>\n",
       "      <td>3.0</td>\n",
       "      <td>P3128</td>\n",
       "    </tr>\n",
       "  </tbody>\n",
       "</table>\n",
       "</div>"
      ],
      "text/plain": [
       "           Condition  Cell_Number Clone_ID  Day  In_Vivo_Clone_ID Project_ID\n",
       "P3128_1193  In_Vitro          1.0       D2  NaN               3.0      P3128\n",
       "P3128_1194  In_Vitro          1.0       D2  NaN               3.0      P3128\n",
       "P3128_1195  In_Vitro          1.0       D2  NaN               3.0      P3128\n",
       "P3128_1196  In_Vitro          1.0       D2  NaN               3.0      P3128\n",
       "P3128_1197  In_Vitro          1.0       D2  NaN               3.0      P3128"
      ]
     },
     "metadata": {},
     "output_type": "display_data"
    }
   ],
   "source": [
    "meta_sc = get_meta('P3128', filename = 'Raw/metadata_marty_NFCORE_Sept2019.csv')\n",
    "cells = list(meta_sc.index)"
   ]
  },
  {
   "cell_type": "code",
   "execution_count": 8,
   "id": "bored-adventure",
   "metadata": {},
   "outputs": [
    {
     "name": "stdout",
     "output_type": "stream",
     "text": [
      "Discarding samples without Sample ID.  2345 samples remaining.\n",
      "563 samples found in experiment P3128.\n",
      "Discarding samples without Clone ID.  560 samples remaining.\n",
      "Discarding samples that are not in-vitro.  372 samples remaining\n",
      "Discarding single cells.  38 bulks remaining\n",
      "38 bulks found in experiment P3128\n",
      "19 Clones: D2 BULK, H3 BULK, D6 BULK, F7 BULK, A2 BULK, B6 BULK, C6 BULK, E7 BULK, B12 BULK, C2 BULK, H6 BULK, F11 BULK, B4 BULK, E8 BULK, D1 BULK, A7 BULK, A8 BULK, E2 BULK, H4 BULK\n",
      "The first five rows of the dataframe are below\n"
     ]
    },
    {
     "data": {
      "text/html": [
       "<div>\n",
       "<style scoped>\n",
       "    .dataframe tbody tr th:only-of-type {\n",
       "        vertical-align: middle;\n",
       "    }\n",
       "\n",
       "    .dataframe tbody tr th {\n",
       "        vertical-align: top;\n",
       "    }\n",
       "\n",
       "    .dataframe thead th {\n",
       "        text-align: right;\n",
       "    }\n",
       "</style>\n",
       "<table border=\"1\" class=\"dataframe\">\n",
       "  <thead>\n",
       "    <tr style=\"text-align: right;\">\n",
       "      <th></th>\n",
       "      <th>Condition</th>\n",
       "      <th>Cell_Number</th>\n",
       "      <th>Clone_ID</th>\n",
       "      <th>Day</th>\n",
       "      <th>In_Vivo_Clone_ID</th>\n",
       "      <th>Project_ID</th>\n",
       "    </tr>\n",
       "  </thead>\n",
       "  <tbody>\n",
       "    <tr>\n",
       "      <th>P3128_1200</th>\n",
       "      <td>In_Vitro</td>\n",
       "      <td>20.0</td>\n",
       "      <td>D2 BULK</td>\n",
       "      <td>NaN</td>\n",
       "      <td>3.0</td>\n",
       "      <td>P3128</td>\n",
       "    </tr>\n",
       "    <tr>\n",
       "      <th>P3128_1208</th>\n",
       "      <td>In_Vitro</td>\n",
       "      <td>20.0</td>\n",
       "      <td>D2 BULK</td>\n",
       "      <td>NaN</td>\n",
       "      <td>3.0</td>\n",
       "      <td>P3128</td>\n",
       "    </tr>\n",
       "    <tr>\n",
       "      <th>P3128_1216</th>\n",
       "      <td>In_Vitro</td>\n",
       "      <td>20.0</td>\n",
       "      <td>H3 BULK</td>\n",
       "      <td>NaN</td>\n",
       "      <td>11.0</td>\n",
       "      <td>P3128</td>\n",
       "    </tr>\n",
       "    <tr>\n",
       "      <th>P3128_1224</th>\n",
       "      <td>In_Vitro</td>\n",
       "      <td>20.0</td>\n",
       "      <td>H3 BULK</td>\n",
       "      <td>NaN</td>\n",
       "      <td>11.0</td>\n",
       "      <td>P3128</td>\n",
       "    </tr>\n",
       "    <tr>\n",
       "      <th>P3128_1232</th>\n",
       "      <td>In_Vitro</td>\n",
       "      <td>20.0</td>\n",
       "      <td>D6 BULK</td>\n",
       "      <td>NaN</td>\n",
       "      <td>55.0</td>\n",
       "      <td>P3128</td>\n",
       "    </tr>\n",
       "  </tbody>\n",
       "</table>\n",
       "</div>"
      ],
      "text/plain": [
       "           Condition  Cell_Number Clone_ID  Day  In_Vivo_Clone_ID Project_ID\n",
       "P3128_1200  In_Vitro         20.0  D2 BULK  NaN               3.0      P3128\n",
       "P3128_1208  In_Vitro         20.0  D2 BULK  NaN               3.0      P3128\n",
       "P3128_1216  In_Vitro         20.0  H3 BULK  NaN              11.0      P3128\n",
       "P3128_1224  In_Vitro         20.0  H3 BULK  NaN              11.0      P3128\n",
       "P3128_1232  In_Vitro         20.0  D6 BULK  NaN              55.0      P3128"
      ]
     },
     "metadata": {},
     "output_type": "display_data"
    }
   ],
   "source": [
    "meta_bulks = get_meta('P3128', filename = 'Raw/metadata_marty_NFCORE_Sept2019.csv', bulks=True)\n",
    "bulks = list(meta_bulks.index)"
   ]
  },
  {
   "cell_type": "code",
   "execution_count": 9,
   "id": "9b4e21e9",
   "metadata": {},
   "outputs": [
    {
     "data": {
      "text/plain": [
       "20.0    24\n",
       "10.0     7\n",
       "5.0      6\n",
       "4.0      1\n",
       "Name: Cell_Number, dtype: int64"
      ]
     },
     "execution_count": 9,
     "metadata": {},
     "output_type": "execute_result"
    }
   ],
   "source": [
    "meta_bulks['Cell_Number'].value_counts()"
   ]
  },
  {
   "cell_type": "markdown",
   "id": "2893deba",
   "metadata": {},
   "source": [
    "The bulks vary in size, from 4 cells up to 20 cells."
   ]
  },
  {
   "cell_type": "markdown",
   "id": "former-endorsement",
   "metadata": {},
   "source": [
    "## Getting expression matrices"
   ]
  },
  {
   "cell_type": "code",
   "execution_count": 10,
   "id": "engaging-regular",
   "metadata": {},
   "outputs": [],
   "source": [
    "def get_counts(filename, gdf):\n",
    "    df = pd.read_csv(filename, sep='\\t',\n",
    "                     index_col=0, header=0, low_memory=False)\n",
    "    df = df[df.columns[1:]]\n",
    "    cols = list(df.columns)\n",
    "    cols = ['_'.join(col.split('_')[3:5]) for col in cols]\n",
    "    df.columns = cols\n",
    "    return df"
   ]
  },
  {
   "cell_type": "code",
   "execution_count": 11,
   "id": "clear-colors",
   "metadata": {},
   "outputs": [
    {
     "data": {
      "text/html": [
       "<div>\n",
       "<style scoped>\n",
       "    .dataframe tbody tr th:only-of-type {\n",
       "        vertical-align: middle;\n",
       "    }\n",
       "\n",
       "    .dataframe tbody tr th {\n",
       "        vertical-align: top;\n",
       "    }\n",
       "\n",
       "    .dataframe thead th {\n",
       "        text-align: right;\n",
       "    }\n",
       "</style>\n",
       "<table border=\"1\" class=\"dataframe\">\n",
       "  <thead>\n",
       "    <tr style=\"text-align: right;\">\n",
       "      <th></th>\n",
       "      <th>P3128_1193</th>\n",
       "      <th>P3128_1194</th>\n",
       "      <th>P3128_1195</th>\n",
       "      <th>P3128_1196</th>\n",
       "      <th>P3128_1197</th>\n",
       "      <th>P3128_1198</th>\n",
       "      <th>P3128_1199</th>\n",
       "      <th>P3128_1201</th>\n",
       "      <th>P3128_1202</th>\n",
       "      <th>P3128_1203</th>\n",
       "      <th>...</th>\n",
       "      <th>P3128_1565</th>\n",
       "      <th>P3128_1566</th>\n",
       "      <th>P3128_1567</th>\n",
       "      <th>P3128_1569</th>\n",
       "      <th>P3128_1570</th>\n",
       "      <th>P3128_1571</th>\n",
       "      <th>P3128_1572</th>\n",
       "      <th>P3128_1573</th>\n",
       "      <th>P3128_1574</th>\n",
       "      <th>P3128_1575</th>\n",
       "    </tr>\n",
       "    <tr>\n",
       "      <th>Geneid</th>\n",
       "      <th></th>\n",
       "      <th></th>\n",
       "      <th></th>\n",
       "      <th></th>\n",
       "      <th></th>\n",
       "      <th></th>\n",
       "      <th></th>\n",
       "      <th></th>\n",
       "      <th></th>\n",
       "      <th></th>\n",
       "      <th></th>\n",
       "      <th></th>\n",
       "      <th></th>\n",
       "      <th></th>\n",
       "      <th></th>\n",
       "      <th></th>\n",
       "      <th></th>\n",
       "      <th></th>\n",
       "      <th></th>\n",
       "      <th></th>\n",
       "      <th></th>\n",
       "    </tr>\n",
       "  </thead>\n",
       "  <tbody>\n",
       "    <tr>\n",
       "      <th>ENSG00000223972</th>\n",
       "      <td>0</td>\n",
       "      <td>0</td>\n",
       "      <td>0</td>\n",
       "      <td>0</td>\n",
       "      <td>0</td>\n",
       "      <td>0</td>\n",
       "      <td>0</td>\n",
       "      <td>0</td>\n",
       "      <td>0</td>\n",
       "      <td>0</td>\n",
       "      <td>...</td>\n",
       "      <td>0</td>\n",
       "      <td>0</td>\n",
       "      <td>0</td>\n",
       "      <td>0</td>\n",
       "      <td>0</td>\n",
       "      <td>0</td>\n",
       "      <td>0</td>\n",
       "      <td>0</td>\n",
       "      <td>0</td>\n",
       "      <td>0</td>\n",
       "    </tr>\n",
       "    <tr>\n",
       "      <th>ENSG00000227232</th>\n",
       "      <td>6</td>\n",
       "      <td>2</td>\n",
       "      <td>0</td>\n",
       "      <td>0</td>\n",
       "      <td>0</td>\n",
       "      <td>3</td>\n",
       "      <td>0</td>\n",
       "      <td>2</td>\n",
       "      <td>2</td>\n",
       "      <td>0</td>\n",
       "      <td>...</td>\n",
       "      <td>11</td>\n",
       "      <td>34</td>\n",
       "      <td>94</td>\n",
       "      <td>45</td>\n",
       "      <td>18</td>\n",
       "      <td>15</td>\n",
       "      <td>8</td>\n",
       "      <td>0</td>\n",
       "      <td>19</td>\n",
       "      <td>0</td>\n",
       "    </tr>\n",
       "    <tr>\n",
       "      <th>ENSG00000243485</th>\n",
       "      <td>0</td>\n",
       "      <td>0</td>\n",
       "      <td>0</td>\n",
       "      <td>0</td>\n",
       "      <td>0</td>\n",
       "      <td>0</td>\n",
       "      <td>0</td>\n",
       "      <td>0</td>\n",
       "      <td>0</td>\n",
       "      <td>0</td>\n",
       "      <td>...</td>\n",
       "      <td>0</td>\n",
       "      <td>0</td>\n",
       "      <td>0</td>\n",
       "      <td>0</td>\n",
       "      <td>0</td>\n",
       "      <td>0</td>\n",
       "      <td>0</td>\n",
       "      <td>0</td>\n",
       "      <td>0</td>\n",
       "      <td>0</td>\n",
       "    </tr>\n",
       "    <tr>\n",
       "      <th>ENSG00000237613</th>\n",
       "      <td>0</td>\n",
       "      <td>0</td>\n",
       "      <td>0</td>\n",
       "      <td>0</td>\n",
       "      <td>0</td>\n",
       "      <td>0</td>\n",
       "      <td>0</td>\n",
       "      <td>0</td>\n",
       "      <td>0</td>\n",
       "      <td>0</td>\n",
       "      <td>...</td>\n",
       "      <td>0</td>\n",
       "      <td>0</td>\n",
       "      <td>0</td>\n",
       "      <td>0</td>\n",
       "      <td>0</td>\n",
       "      <td>0</td>\n",
       "      <td>0</td>\n",
       "      <td>0</td>\n",
       "      <td>0</td>\n",
       "      <td>0</td>\n",
       "    </tr>\n",
       "    <tr>\n",
       "      <th>ENSG00000268020</th>\n",
       "      <td>0</td>\n",
       "      <td>0</td>\n",
       "      <td>0</td>\n",
       "      <td>0</td>\n",
       "      <td>0</td>\n",
       "      <td>0</td>\n",
       "      <td>0</td>\n",
       "      <td>0</td>\n",
       "      <td>0</td>\n",
       "      <td>0</td>\n",
       "      <td>...</td>\n",
       "      <td>0</td>\n",
       "      <td>0</td>\n",
       "      <td>0</td>\n",
       "      <td>0</td>\n",
       "      <td>0</td>\n",
       "      <td>0</td>\n",
       "      <td>0</td>\n",
       "      <td>0</td>\n",
       "      <td>0</td>\n",
       "      <td>0</td>\n",
       "    </tr>\n",
       "  </tbody>\n",
       "</table>\n",
       "<p>5 rows × 334 columns</p>\n",
       "</div>"
      ],
      "text/plain": [
       "                 P3128_1193  P3128_1194  P3128_1195  P3128_1196  P3128_1197  \\\n",
       "Geneid                                                                        \n",
       "ENSG00000223972           0           0           0           0           0   \n",
       "ENSG00000227232           6           2           0           0           0   \n",
       "ENSG00000243485           0           0           0           0           0   \n",
       "ENSG00000237613           0           0           0           0           0   \n",
       "ENSG00000268020           0           0           0           0           0   \n",
       "\n",
       "                 P3128_1198  P3128_1199  P3128_1201  P3128_1202  P3128_1203  \\\n",
       "Geneid                                                                        \n",
       "ENSG00000223972           0           0           0           0           0   \n",
       "ENSG00000227232           3           0           2           2           0   \n",
       "ENSG00000243485           0           0           0           0           0   \n",
       "ENSG00000237613           0           0           0           0           0   \n",
       "ENSG00000268020           0           0           0           0           0   \n",
       "\n",
       "                 ...  P3128_1565  P3128_1566  P3128_1567  P3128_1569  \\\n",
       "Geneid           ...                                                   \n",
       "ENSG00000223972  ...           0           0           0           0   \n",
       "ENSG00000227232  ...          11          34          94          45   \n",
       "ENSG00000243485  ...           0           0           0           0   \n",
       "ENSG00000237613  ...           0           0           0           0   \n",
       "ENSG00000268020  ...           0           0           0           0   \n",
       "\n",
       "                 P3128_1570  P3128_1571  P3128_1572  P3128_1573  P3128_1574  \\\n",
       "Geneid                                                                        \n",
       "ENSG00000223972           0           0           0           0           0   \n",
       "ENSG00000227232          18          15           8           0          19   \n",
       "ENSG00000243485           0           0           0           0           0   \n",
       "ENSG00000237613           0           0           0           0           0   \n",
       "ENSG00000268020           0           0           0           0           0   \n",
       "\n",
       "                 P3128_1575  \n",
       "Geneid                       \n",
       "ENSG00000223972           0  \n",
       "ENSG00000227232           0  \n",
       "ENSG00000243485           0  \n",
       "ENSG00000237613           0  \n",
       "ENSG00000268020           0  \n",
       "\n",
       "[5 rows x 334 columns]"
      ]
     },
     "execution_count": 11,
     "metadata": {},
     "output_type": "execute_result"
    }
   ],
   "source": [
    "foldername = 'Raw/NFCore_Joanna_Mapped_Sept2019/'\n",
    "counts_all = get_counts(foldername+'P3128_merged_gene_counts.tsv', gene_df)\n",
    "counts_sc = counts_all[cells]\n",
    "counts_sc.head()"
   ]
  },
  {
   "cell_type": "code",
   "execution_count": 12,
   "id": "bd633b39",
   "metadata": {},
   "outputs": [
    {
     "data": {
      "text/html": [
       "<div>\n",
       "<style scoped>\n",
       "    .dataframe tbody tr th:only-of-type {\n",
       "        vertical-align: middle;\n",
       "    }\n",
       "\n",
       "    .dataframe tbody tr th {\n",
       "        vertical-align: top;\n",
       "    }\n",
       "\n",
       "    .dataframe thead th {\n",
       "        text-align: right;\n",
       "    }\n",
       "</style>\n",
       "<table border=\"1\" class=\"dataframe\">\n",
       "  <thead>\n",
       "    <tr style=\"text-align: right;\">\n",
       "      <th></th>\n",
       "      <th>P3128_1200</th>\n",
       "      <th>P3128_1208</th>\n",
       "      <th>P3128_1216</th>\n",
       "      <th>P3128_1224</th>\n",
       "      <th>P3128_1232</th>\n",
       "      <th>P3128_1240</th>\n",
       "      <th>P3128_1248</th>\n",
       "      <th>P3128_1256</th>\n",
       "      <th>P3128_1264</th>\n",
       "      <th>P3128_1272</th>\n",
       "      <th>...</th>\n",
       "      <th>P3128_1424</th>\n",
       "      <th>P3128_1432</th>\n",
       "      <th>P3128_1440</th>\n",
       "      <th>P3128_1448</th>\n",
       "      <th>P3128_1488</th>\n",
       "      <th>P3128_1496</th>\n",
       "      <th>P3128_1536</th>\n",
       "      <th>P3128_1544</th>\n",
       "      <th>P3128_1568</th>\n",
       "      <th>P3128_1576</th>\n",
       "    </tr>\n",
       "    <tr>\n",
       "      <th>Geneid</th>\n",
       "      <th></th>\n",
       "      <th></th>\n",
       "      <th></th>\n",
       "      <th></th>\n",
       "      <th></th>\n",
       "      <th></th>\n",
       "      <th></th>\n",
       "      <th></th>\n",
       "      <th></th>\n",
       "      <th></th>\n",
       "      <th></th>\n",
       "      <th></th>\n",
       "      <th></th>\n",
       "      <th></th>\n",
       "      <th></th>\n",
       "      <th></th>\n",
       "      <th></th>\n",
       "      <th></th>\n",
       "      <th></th>\n",
       "      <th></th>\n",
       "      <th></th>\n",
       "    </tr>\n",
       "  </thead>\n",
       "  <tbody>\n",
       "    <tr>\n",
       "      <th>ENSG00000223972</th>\n",
       "      <td>0</td>\n",
       "      <td>0</td>\n",
       "      <td>0</td>\n",
       "      <td>0</td>\n",
       "      <td>0</td>\n",
       "      <td>0</td>\n",
       "      <td>0</td>\n",
       "      <td>0</td>\n",
       "      <td>0</td>\n",
       "      <td>0</td>\n",
       "      <td>...</td>\n",
       "      <td>0</td>\n",
       "      <td>0</td>\n",
       "      <td>0</td>\n",
       "      <td>0</td>\n",
       "      <td>0</td>\n",
       "      <td>0</td>\n",
       "      <td>0</td>\n",
       "      <td>0</td>\n",
       "      <td>0</td>\n",
       "      <td>0</td>\n",
       "    </tr>\n",
       "    <tr>\n",
       "      <th>ENSG00000227232</th>\n",
       "      <td>4</td>\n",
       "      <td>5</td>\n",
       "      <td>60</td>\n",
       "      <td>59</td>\n",
       "      <td>46</td>\n",
       "      <td>43</td>\n",
       "      <td>9</td>\n",
       "      <td>7</td>\n",
       "      <td>10</td>\n",
       "      <td>38</td>\n",
       "      <td>...</td>\n",
       "      <td>14</td>\n",
       "      <td>92</td>\n",
       "      <td>30</td>\n",
       "      <td>5</td>\n",
       "      <td>3</td>\n",
       "      <td>8</td>\n",
       "      <td>1</td>\n",
       "      <td>10</td>\n",
       "      <td>39</td>\n",
       "      <td>77</td>\n",
       "    </tr>\n",
       "    <tr>\n",
       "      <th>ENSG00000243485</th>\n",
       "      <td>0</td>\n",
       "      <td>0</td>\n",
       "      <td>0</td>\n",
       "      <td>0</td>\n",
       "      <td>0</td>\n",
       "      <td>0</td>\n",
       "      <td>0</td>\n",
       "      <td>0</td>\n",
       "      <td>0</td>\n",
       "      <td>0</td>\n",
       "      <td>...</td>\n",
       "      <td>0</td>\n",
       "      <td>0</td>\n",
       "      <td>0</td>\n",
       "      <td>0</td>\n",
       "      <td>0</td>\n",
       "      <td>0</td>\n",
       "      <td>0</td>\n",
       "      <td>0</td>\n",
       "      <td>0</td>\n",
       "      <td>0</td>\n",
       "    </tr>\n",
       "    <tr>\n",
       "      <th>ENSG00000237613</th>\n",
       "      <td>0</td>\n",
       "      <td>0</td>\n",
       "      <td>0</td>\n",
       "      <td>0</td>\n",
       "      <td>0</td>\n",
       "      <td>0</td>\n",
       "      <td>0</td>\n",
       "      <td>0</td>\n",
       "      <td>0</td>\n",
       "      <td>0</td>\n",
       "      <td>...</td>\n",
       "      <td>0</td>\n",
       "      <td>0</td>\n",
       "      <td>0</td>\n",
       "      <td>0</td>\n",
       "      <td>0</td>\n",
       "      <td>0</td>\n",
       "      <td>0</td>\n",
       "      <td>0</td>\n",
       "      <td>0</td>\n",
       "      <td>0</td>\n",
       "    </tr>\n",
       "    <tr>\n",
       "      <th>ENSG00000268020</th>\n",
       "      <td>0</td>\n",
       "      <td>0</td>\n",
       "      <td>0</td>\n",
       "      <td>0</td>\n",
       "      <td>0</td>\n",
       "      <td>0</td>\n",
       "      <td>0</td>\n",
       "      <td>0</td>\n",
       "      <td>0</td>\n",
       "      <td>0</td>\n",
       "      <td>...</td>\n",
       "      <td>0</td>\n",
       "      <td>0</td>\n",
       "      <td>0</td>\n",
       "      <td>0</td>\n",
       "      <td>0</td>\n",
       "      <td>0</td>\n",
       "      <td>0</td>\n",
       "      <td>0</td>\n",
       "      <td>0</td>\n",
       "      <td>0</td>\n",
       "    </tr>\n",
       "  </tbody>\n",
       "</table>\n",
       "<p>5 rows × 38 columns</p>\n",
       "</div>"
      ],
      "text/plain": [
       "                 P3128_1200  P3128_1208  P3128_1216  P3128_1224  P3128_1232  \\\n",
       "Geneid                                                                        \n",
       "ENSG00000223972           0           0           0           0           0   \n",
       "ENSG00000227232           4           5          60          59          46   \n",
       "ENSG00000243485           0           0           0           0           0   \n",
       "ENSG00000237613           0           0           0           0           0   \n",
       "ENSG00000268020           0           0           0           0           0   \n",
       "\n",
       "                 P3128_1240  P3128_1248  P3128_1256  P3128_1264  P3128_1272  \\\n",
       "Geneid                                                                        \n",
       "ENSG00000223972           0           0           0           0           0   \n",
       "ENSG00000227232          43           9           7          10          38   \n",
       "ENSG00000243485           0           0           0           0           0   \n",
       "ENSG00000237613           0           0           0           0           0   \n",
       "ENSG00000268020           0           0           0           0           0   \n",
       "\n",
       "                 ...  P3128_1424  P3128_1432  P3128_1440  P3128_1448  \\\n",
       "Geneid           ...                                                   \n",
       "ENSG00000223972  ...           0           0           0           0   \n",
       "ENSG00000227232  ...          14          92          30           5   \n",
       "ENSG00000243485  ...           0           0           0           0   \n",
       "ENSG00000237613  ...           0           0           0           0   \n",
       "ENSG00000268020  ...           0           0           0           0   \n",
       "\n",
       "                 P3128_1488  P3128_1496  P3128_1536  P3128_1544  P3128_1568  \\\n",
       "Geneid                                                                        \n",
       "ENSG00000223972           0           0           0           0           0   \n",
       "ENSG00000227232           3           8           1          10          39   \n",
       "ENSG00000243485           0           0           0           0           0   \n",
       "ENSG00000237613           0           0           0           0           0   \n",
       "ENSG00000268020           0           0           0           0           0   \n",
       "\n",
       "                 P3128_1576  \n",
       "Geneid                       \n",
       "ENSG00000223972           0  \n",
       "ENSG00000227232          77  \n",
       "ENSG00000243485           0  \n",
       "ENSG00000237613           0  \n",
       "ENSG00000268020           0  \n",
       "\n",
       "[5 rows x 38 columns]"
      ]
     },
     "execution_count": 12,
     "metadata": {},
     "output_type": "execute_result"
    }
   ],
   "source": [
    "counts_bulks = counts_all[bulks]\n",
    "counts_bulks.head()"
   ]
  },
  {
   "cell_type": "markdown",
   "id": "civic-brown",
   "metadata": {},
   "source": [
    "## Moving into Scanpy"
   ]
  },
  {
   "cell_type": "code",
   "execution_count": 13,
   "id": "intimate-maryland",
   "metadata": {},
   "outputs": [],
   "source": [
    "def moveto_scanpy(counts, cell_meta, gene_meta, plain_name = True):\n",
    "    adata = sc.AnnData(counts.T)\n",
    "    for gene_property in gene_meta.columns:\n",
    "        adata.var[gene_property] = gene_meta[gene_property]\n",
    "    for cell_property in cell_meta.columns:\n",
    "        adata.obs[cell_property] = cell_meta[cell_property]\n",
    "    if plain_name:\n",
    "        adata.var.index = adata.var['gene_name'] # Reindex by gene name\n",
    "        adata.var_names_make_unique() # Use common gene names, but uniquify them.\n",
    "    \n",
    "    return adata"
   ]
  },
  {
   "cell_type": "code",
   "execution_count": 14,
   "id": "specified-tyler",
   "metadata": {},
   "outputs": [
    {
     "name": "stderr",
     "output_type": "stream",
     "text": [
      "/opt/anaconda3/envs/clonalomics/lib/python3.8/site-packages/anndata/utils.py:111: UserWarning: Suffix used (-[0-9]+) to deduplicate index values may make index values difficult to interpret. There values with a similar suffixes in the index. Consider using a different delimiter by passing `join={delimiter}`Example key collisions generated by the make_index_unique algorithm: ['SNORD116-1', 'SNORD116-2', 'SNORD116-3', 'SNORD113-1', 'SNORD113-2']\n",
      "  warnings.warn(\n"
     ]
    }
   ],
   "source": [
    "adata = {}\n",
    "adata['sc'] = moveto_scanpy(counts_sc, meta_sc, gene_df)\n",
    "adata['bulks'] = moveto_scanpy(counts_bulks, meta_bulks, gene_df)\n",
    "\n",
    "datasets = ['sc','bulks']"
   ]
  },
  {
   "cell_type": "markdown",
   "id": "0f14421b",
   "metadata": {},
   "source": [
    "#  Filtering and normalization"
   ]
  },
  {
   "cell_type": "markdown",
   "id": "fade91c7",
   "metadata": {},
   "source": [
    "We use the Seuratv3 flavor of selection for highly variable genes, which uses unnormalized data.  See [Scanpy documentation](https://scanpy.readthedocs.io/en/stable/api/scanpy.pp.highly_variable_genes.html#scanpy.pp.highly_variable_genes) for more."
   ]
  },
  {
   "cell_type": "code",
   "execution_count": 15,
   "id": "949fdeef",
   "metadata": {},
   "outputs": [
    {
     "name": "stdout",
     "output_type": "stream",
     "text": [
      "Identifying highly variable genes in sc\n"
     ]
    },
    {
     "name": "stderr",
     "output_type": "stream",
     "text": [
      "/opt/anaconda3/envs/clonalomics/lib/python3.8/site-packages/scanpy/preprocessing/_highly_variable_genes.py:144: FutureWarning: Slicing a positional slice with .loc is not supported, and will raise TypeError in a future version.  Use .loc with labels or .iloc with positions instead.\n",
      "  df.loc[: int(n_top_genes), 'highly_variable'] = True\n"
     ]
    },
    {
     "name": "stdout",
     "output_type": "stream",
     "text": [
      "Identifying highly variable genes in bulks\n"
     ]
    }
   ],
   "source": [
    "for ds in datasets:\n",
    "    print('Identifying highly variable genes in {}'.format(ds))\n",
    "    sc.pp.highly_variable_genes(adata[ds], n_top_genes=7500, flavor='seurat_v3')\n",
    "    #sc.pl.highly_variable_genes(adata[ds], log=True)"
   ]
  },
  {
   "cell_type": "markdown",
   "id": "89e48b2e",
   "metadata": {},
   "source": [
    "Now we carry out TPM normalization."
   ]
  },
  {
   "cell_type": "code",
   "execution_count": 16,
   "id": "14b6c509",
   "metadata": {},
   "outputs": [],
   "source": [
    "def TPM_norm(ad, target_sum=1e6):\n",
    "    ad_out = ad.copy()\n",
    "    \n",
    "    df = ad_out.to_df().T\n",
    "    \n",
    "    # Step 1:  divide each entry by the transcript length of the gene, in kilobases.\n",
    "    rdf = 1 / ad_out.var['transcript_length']\n",
    "    df = df.mul(1000*rdf,axis=0) # Multiply by 1000 to convert transcript length to kilobases.\n",
    "    \n",
    "    # Transpose for what follows.\n",
    "    df = df.T\n",
    "    \n",
    "    # Step 2:  divide each entry by cell-total, then multiply by target_sum.\n",
    "    rdf = 1/df.sum(axis=1)\n",
    "    df = df.mul(rdf, axis=0)\n",
    "    df = df * target_sum \n",
    "    \n",
    "    # Double-check TPM normalization has succeeded.\n",
    "    print('The TPM normalization has failed for {} samples.'.format(((df.sum(axis=1) - target_sum) > 0.1).sum()))\n",
    "    \n",
    "    # Return new dataframe.\n",
    "    ad_out.X = df\n",
    "    return ad_out"
   ]
  },
  {
   "cell_type": "code",
   "execution_count": 17,
   "id": "3bbb8729",
   "metadata": {},
   "outputs": [
    {
     "name": "stdout",
     "output_type": "stream",
     "text": [
      "The TPM normalization has failed for 0 samples.\n",
      "The TPM normalization has failed for 0 samples.\n"
     ]
    }
   ],
   "source": [
    "for ds in datasets:\n",
    "    adata[ds] = TPM_norm(adata[ds]) # TPM normalize."
   ]
  },
  {
   "cell_type": "markdown",
   "id": "557b640c",
   "metadata": {},
   "source": [
    "We keep genes if they are expressed at TPM > 10 for more than 5% of cells."
   ]
  },
  {
   "cell_type": "code",
   "execution_count": 18,
   "id": "9ff15944",
   "metadata": {},
   "outputs": [
    {
     "name": "stdout",
     "output_type": "stream",
     "text": [
      "Dataset sc has 63677 genes before and 8765 genes after filtering.\n",
      "Dataset bulks has 63677 genes before and 11152 genes after filtering.\n"
     ]
    }
   ],
   "source": [
    "for ds in datasets:\n",
    "    genes_before = adata[ds].n_vars\n",
    "    gg = ((adata[ds].to_df() > 10).sum() > 0.05*adata[ds].n_obs)\n",
    "    good_genes = gg[gg].index\n",
    "    adata[ds] = adata[ds][:,good_genes]\n",
    "    genes_after = adata[ds].n_vars\n",
    "    print('Dataset {} has {} genes before and {} genes after filtering.'.format(ds,genes_before,genes_after))"
   ]
  },
  {
   "cell_type": "markdown",
   "id": "9c9156ee",
   "metadata": {},
   "source": [
    "Pseudo-log normalization is next."
   ]
  },
  {
   "cell_type": "code",
   "execution_count": 19,
   "id": "d9c46557",
   "metadata": {},
   "outputs": [
    {
     "name": "stderr",
     "output_type": "stream",
     "text": [
      "/opt/anaconda3/envs/clonalomics/lib/python3.8/site-packages/scanpy/preprocessing/_simple.py:343: UserWarning: Revieved a view of an AnnData. Making a copy.\n",
      "  view_to_actual(adata)\n"
     ]
    }
   ],
   "source": [
    "for ds in datasets:\n",
    "    sc.pp.log1p(adata[ds]) #pseudo-log normalize."
   ]
  },
  {
   "cell_type": "code",
   "execution_count": 20,
   "id": "9c81408d",
   "metadata": {},
   "outputs": [
    {
     "name": "stdout",
     "output_type": "stream",
     "text": [
      "Summary of AnnData object for sc (shape = #samples x #genes)\n",
      "AnnData object with n_obs × n_vars = 334 × 8765\n",
      "    obs: 'Condition', 'Cell_Number', 'Clone_ID', 'Day', 'In_Vivo_Clone_ID', 'Project_ID'\n",
      "    var: 'transcript_length', 'GC_content', 'gene_name', 'highly_variable', 'highly_variable_rank', 'means', 'variances', 'variances_norm'\n",
      "    uns: 'hvg', 'log1p'\n",
      "================================================================================\n",
      "Summary of AnnData object for bulks (shape = #samples x #genes)\n",
      "AnnData object with n_obs × n_vars = 38 × 11152\n",
      "    obs: 'Condition', 'Cell_Number', 'Clone_ID', 'Day', 'In_Vivo_Clone_ID', 'Project_ID'\n",
      "    var: 'transcript_length', 'GC_content', 'gene_name', 'highly_variable', 'highly_variable_rank', 'means', 'variances', 'variances_norm'\n",
      "    uns: 'hvg', 'log1p'\n",
      "================================================================================\n"
     ]
    }
   ],
   "source": [
    "for ds in datasets:\n",
    "    print('Summary of AnnData object for {} (shape = #samples x #genes)'.format(ds))\n",
    "    print(adata[ds])\n",
    "    hrule()"
   ]
  },
  {
   "cell_type": "markdown",
   "id": "10ada0ac",
   "metadata": {},
   "source": [
    "## Dropping T-cell Receptor Genes\n",
    "\n",
    "We drop T-cell receptor genes, stored in an external file."
   ]
  },
  {
   "cell_type": "code",
   "execution_count": 21,
   "id": "59dbf5d7",
   "metadata": {},
   "outputs": [],
   "source": [
    "def drop_TRs(ad, filename='TR_gene_data.csv'):\n",
    "    ad_out = ad\n",
    "    TR_gene_df = pd.read_csv(filename, index_col=0)\n",
    "    TR_genes = TR_gene_df['gene_name'].values\n",
    "    bad_genes = [gene for gene in ad_out.var_names if gene in TR_genes]\n",
    "    print('{} genes removed.'.format(len(bad_genes)))\n",
    "    keep_genes = [gene for gene in ad_out.var_names if not gene in bad_genes]\n",
    "    ad_out = ad_out[:, keep_genes]\n",
    "    return ad_out"
   ]
  },
  {
   "cell_type": "code",
   "execution_count": 22,
   "id": "e69e7e58",
   "metadata": {},
   "outputs": [
    {
     "name": "stdout",
     "output_type": "stream",
     "text": [
      "72 genes removed.\n",
      "72 T-cell receptor genes removed from adata[sc]\n",
      "================================================================================\n",
      "109 genes removed.\n",
      "109 T-cell receptor genes removed from adata[bulks]\n",
      "================================================================================\n"
     ]
    }
   ],
   "source": [
    "for ds in datasets:\n",
    "    before_genes = len(adata[ds].var_names)\n",
    "    adata[ds] = drop_TRs(adata[ds])\n",
    "    after_genes = len(adata[ds].var_names)\n",
    "    print('{} T-cell receptor genes removed from adata[{}]'.format(before_genes - after_genes, ds))\n",
    "    hrule()"
   ]
  },
  {
   "cell_type": "markdown",
   "id": "78cde018",
   "metadata": {},
   "source": [
    "# Quality control"
   ]
  },
  {
   "cell_type": "markdown",
   "id": "ffa50ab0",
   "metadata": {},
   "source": [
    "We check on the highest expressed genes (before normalization)"
   ]
  },
  {
   "cell_type": "code",
   "execution_count": 23,
   "id": "7e18b140",
   "metadata": {},
   "outputs": [
    {
     "name": "stderr",
     "output_type": "stream",
     "text": [
      "/opt/anaconda3/envs/clonalomics/lib/python3.8/site-packages/scanpy/preprocessing/_normalization.py:138: UserWarning: Revieved a view of an AnnData. Making a copy.\n",
      "  view_to_actual(adata)\n",
      "/opt/anaconda3/envs/clonalomics/lib/python3.8/site-packages/scanpy/preprocessing/_normalization.py:138: UserWarning: Revieved a view of an AnnData. Making a copy.\n",
      "  view_to_actual(adata)\n"
     ]
    },
    {
     "data": {
      "image/png": "[encoded data removed]",
      "text/plain": [
       "<Figure size 864x360 with 2 Axes>"
      ]
     },
     "metadata": {
      "needs_background": "light"
     },
     "output_type": "display_data"
    }
   ],
   "source": [
    "fig,ax = plt.subplots(1,len(datasets), figsize=(len(datasets)*6,5))\n",
    "for j,ds in enumerate(datasets):\n",
    "    sc.pl.highest_expr_genes(adata[ds], n_top=10, ax=ax[j], log=True, show=False)\n",
    "    ax[j].set_title('Data from {}'.format(ds))\n",
    "    if j > 0:\n",
    "        ax[j].set_ylabel('')\n",
    "plt.suptitle('Highest expressed genes, by % of total count', y=1.05)\n",
    "plt.show()"
   ]
  },
  {
   "cell_type": "markdown",
   "id": "a1f22227",
   "metadata": {},
   "source": [
    "We look at MT-genes for quality control too."
   ]
  },
  {
   "cell_type": "code",
   "execution_count": 24,
   "id": "42a21229",
   "metadata": {},
   "outputs": [],
   "source": [
    "for ds in datasets:\n",
    "    adata[ds].var['mt'] = adata[ds].var_names.str.startswith('MT-')  # annotate the group of mitochondrial genes as 'mt'\n",
    "    sc.pp.calculate_qc_metrics(adata[ds], qc_vars=['mt'], percent_top=None, inplace=True)"
   ]
  },
  {
   "cell_type": "markdown",
   "id": "441318aa",
   "metadata": {},
   "source": [
    "Here we look at total counts and number of genes, to filter out \"bad cells\"."
   ]
  },
  {
   "cell_type": "code",
   "execution_count": 25,
   "id": "98c1c2db",
   "metadata": {},
   "outputs": [
    {
     "data": {
      "image/png": "[encoded data removed]",
      "text/plain": [
       "<Figure size 576x576 with 1 Axes>"
      ]
     },
     "metadata": {
      "needs_background": "light"
     },
     "output_type": "display_data"
    }
   ],
   "source": [
    "fig,ax = plt.subplots(1,1, figsize=(8,8))\n",
    "\n",
    "sns.scatterplot(x='n_genes_by_counts', y='log1p_total_counts', \n",
    "                data=adata['sc'].obs,  ax=ax)\n",
    "ax.set_title('Quality control for single-cell data')\n",
    "\n",
    "# Choose these after examining the plot!\n",
    "min_logcounts = 9 \n",
    "max_logcounts = 10.0 \n",
    "min_genes = 1900\n",
    "max_genes = 4700\n",
    "ax.axhline(min_logcounts, color='red')\n",
    "ax.axhline(max_logcounts, color='red')\n",
    "ax.axvline(min_genes, color='red')\n",
    "ax.axvline(max_genes, color='red')\n",
    "plt.show()"
   ]
  },
  {
   "cell_type": "markdown",
   "id": "b2abda00",
   "metadata": {},
   "source": [
    "Now we filter, and double-check that we've kept only the cells in the desired window."
   ]
  },
  {
   "cell_type": "code",
   "execution_count": 26,
   "id": "61b0637a",
   "metadata": {},
   "outputs": [],
   "source": [
    "sc.pp.filter_cells(adata['sc'], min_genes=min_genes)\n",
    "sc.pp.filter_cells(adata['sc'], max_genes=max_genes)\n",
    "\n",
    "adata['sc'] = adata['sc'][adata['sc'].obs.log1p_total_counts > min_logcounts, :]\n",
    "adata['sc'] = adata['sc'][adata['sc'].obs.log1p_total_counts < max_logcounts, :]"
   ]
  },
  {
   "cell_type": "code",
   "execution_count": 27,
   "id": "3beca500",
   "metadata": {},
   "outputs": [
    {
     "data": {
      "image/png": "[encoded data removed]",
      "text/plain": [
       "<Figure size 576x576 with 1 Axes>"
      ]
     },
     "metadata": {
      "needs_background": "light"
     },
     "output_type": "display_data"
    }
   ],
   "source": [
    "fig,ax = plt.subplots(1,1, figsize=(8,8))\n",
    "\n",
    "\n",
    "sns.scatterplot(x='n_genes_by_counts', y='log1p_total_counts', \n",
    "                data=adata['sc'].obs,  ax=ax)\n",
    "ax.set_title('Quality control for single-cell data')\n",
    "\n",
    "# Choose these after examining the plot!\n",
    "min_logcounts = 9 \n",
    "max_logcounts = 10\n",
    "min_genes = 1900\n",
    "max_genes = 4700\n",
    "ax.axhline(min_logcounts, color='red')\n",
    "ax.axhline(max_logcounts, color='red')\n",
    "ax.axvline(min_genes, color='red')\n",
    "ax.axvline(max_genes, color='red')\n",
    "plt.show()"
   ]
  },
  {
   "cell_type": "code",
   "execution_count": 28,
   "id": "ce9610d6",
   "metadata": {},
   "outputs": [],
   "source": [
    "cells = adata['sc'].obs.index\n",
    "bulks = adata['bulks'].obs.index"
   ]
  },
  {
   "cell_type": "code",
   "execution_count": 29,
   "id": "c381d0cb",
   "metadata": {},
   "outputs": [
    {
     "name": "stdout",
     "output_type": "stream",
     "text": [
      "View of AnnData object with n_obs × n_vars = 324 × 8693\n",
      "    obs: 'Condition', 'Cell_Number', 'Clone_ID', 'Day', 'In_Vivo_Clone_ID', 'Project_ID', 'n_genes_by_counts', 'log1p_n_genes_by_counts', 'total_counts', 'log1p_total_counts', 'total_counts_mt', 'log1p_total_counts_mt', 'pct_counts_mt', 'n_genes'\n",
      "    var: 'transcript_length', 'GC_content', 'gene_name', 'highly_variable', 'highly_variable_rank', 'means', 'variances', 'variances_norm', 'mt', 'n_cells_by_counts', 'mean_counts', 'log1p_mean_counts', 'pct_dropout_by_counts', 'total_counts', 'log1p_total_counts'\n",
      "    uns: 'hvg', 'log1p'\n",
      "================================================================================\n",
      "AnnData object with n_obs × n_vars = 38 × 11043\n",
      "    obs: 'Condition', 'Cell_Number', 'Clone_ID', 'Day', 'In_Vivo_Clone_ID', 'Project_ID', 'n_genes_by_counts', 'log1p_n_genes_by_counts', 'total_counts', 'log1p_total_counts', 'total_counts_mt', 'log1p_total_counts_mt', 'pct_counts_mt'\n",
      "    var: 'transcript_length', 'GC_content', 'gene_name', 'highly_variable', 'highly_variable_rank', 'means', 'variances', 'variances_norm', 'mt', 'n_cells_by_counts', 'mean_counts', 'log1p_mean_counts', 'pct_dropout_by_counts', 'total_counts', 'log1p_total_counts'\n",
      "    uns: 'hvg', 'log1p'\n",
      "================================================================================\n"
     ]
    }
   ],
   "source": [
    "for ds in datasets:\n",
    "    print(adata[ds])\n",
    "    hrule()"
   ]
  },
  {
   "cell_type": "markdown",
   "id": "1458e5e8",
   "metadata": {},
   "source": [
    "# Add clonal information"
   ]
  },
  {
   "cell_type": "code",
   "execution_count": 30,
   "id": "d254a859",
   "metadata": {},
   "outputs": [
    {
     "data": {
      "text/html": [
       "<div>\n",
       "<style scoped>\n",
       "    .dataframe tbody tr th:only-of-type {\n",
       "        vertical-align: middle;\n",
       "    }\n",
       "\n",
       "    .dataframe tbody tr th {\n",
       "        vertical-align: top;\n",
       "    }\n",
       "\n",
       "    .dataframe thead th {\n",
       "        text-align: right;\n",
       "    }\n",
       "</style>\n",
       "<table border=\"1\" class=\"dataframe\">\n",
       "  <thead>\n",
       "    <tr style=\"text-align: right;\">\n",
       "      <th></th>\n",
       "      <th>Well_ID</th>\n",
       "      <th>Clone_ID</th>\n",
       "    </tr>\n",
       "  </thead>\n",
       "  <tbody>\n",
       "    <tr>\n",
       "      <th>P3128_1193</th>\n",
       "      <td>D2</td>\n",
       "      <td>3</td>\n",
       "    </tr>\n",
       "    <tr>\n",
       "      <th>P3128_1194</th>\n",
       "      <td>D2</td>\n",
       "      <td>3</td>\n",
       "    </tr>\n",
       "    <tr>\n",
       "      <th>P3128_1195</th>\n",
       "      <td>D2</td>\n",
       "      <td>3</td>\n",
       "    </tr>\n",
       "    <tr>\n",
       "      <th>P3128_1197</th>\n",
       "      <td>D2</td>\n",
       "      <td>3</td>\n",
       "    </tr>\n",
       "    <tr>\n",
       "      <th>P3128_1198</th>\n",
       "      <td>D2</td>\n",
       "      <td>3</td>\n",
       "    </tr>\n",
       "  </tbody>\n",
       "</table>\n",
       "</div>"
      ],
      "text/plain": [
       "           Well_ID Clone_ID\n",
       "P3128_1193      D2        3\n",
       "P3128_1194      D2        3\n",
       "P3128_1195      D2        3\n",
       "P3128_1197      D2        3\n",
       "P3128_1198      D2        3"
      ]
     },
     "execution_count": 30,
     "metadata": {},
     "output_type": "execute_result"
    }
   ],
   "source": [
    "clone_df = pd.read_csv('Raw/Marty_Clones_P3128_Meta.csv', sep=',', header=0, index_col=0)\n",
    "clone_df = clone_df[['Clone ID', 'Clone_Number_In-Vitro']]\n",
    "clone_df = clone_df.loc[cells]\n",
    "clone_df.columns = ['Well_ID', 'Clone_ID']\n",
    "clone_df.Clone_ID = clone_df.Clone_ID.astype(str).apply(lambda x : x[:-2])\n",
    "clone_df.head()"
   ]
  },
  {
   "cell_type": "code",
   "execution_count": 31,
   "id": "d9817dd0",
   "metadata": {},
   "outputs": [
    {
     "name": "stderr",
     "output_type": "stream",
     "text": [
      "Trying to set attribute `.obs` of view, copying.\n"
     ]
    },
    {
     "data": {
      "text/html": [
       "<div>\n",
       "<style scoped>\n",
       "    .dataframe tbody tr th:only-of-type {\n",
       "        vertical-align: middle;\n",
       "    }\n",
       "\n",
       "    .dataframe tbody tr th {\n",
       "        vertical-align: top;\n",
       "    }\n",
       "\n",
       "    .dataframe thead th {\n",
       "        text-align: right;\n",
       "    }\n",
       "</style>\n",
       "<table border=\"1\" class=\"dataframe\">\n",
       "  <thead>\n",
       "    <tr style=\"text-align: right;\">\n",
       "      <th></th>\n",
       "      <th>Condition</th>\n",
       "      <th>Cell_Number</th>\n",
       "      <th>Clone_ID</th>\n",
       "      <th>Day</th>\n",
       "      <th>In_Vivo_Clone_ID</th>\n",
       "      <th>Project_ID</th>\n",
       "      <th>n_genes_by_counts</th>\n",
       "      <th>log1p_n_genes_by_counts</th>\n",
       "      <th>total_counts</th>\n",
       "      <th>log1p_total_counts</th>\n",
       "      <th>total_counts_mt</th>\n",
       "      <th>log1p_total_counts_mt</th>\n",
       "      <th>pct_counts_mt</th>\n",
       "      <th>n_genes</th>\n",
       "      <th>Well_ID</th>\n",
       "    </tr>\n",
       "  </thead>\n",
       "  <tbody>\n",
       "    <tr>\n",
       "      <th>P3128_1193</th>\n",
       "      <td>In_Vitro</td>\n",
       "      <td>1.0</td>\n",
       "      <td>3</td>\n",
       "      <td>NaN</td>\n",
       "      <td>3.0</td>\n",
       "      <td>P3128</td>\n",
       "      <td>3617</td>\n",
       "      <td>8.193677</td>\n",
       "      <td>16080.742188</td>\n",
       "      <td>9.685440</td>\n",
       "      <td>161.011322</td>\n",
       "      <td>5.087666</td>\n",
       "      <td>1.001268</td>\n",
       "      <td>3617</td>\n",
       "      <td>D2</td>\n",
       "    </tr>\n",
       "    <tr>\n",
       "      <th>P3128_1194</th>\n",
       "      <td>In_Vitro</td>\n",
       "      <td>1.0</td>\n",
       "      <td>3</td>\n",
       "      <td>NaN</td>\n",
       "      <td>3.0</td>\n",
       "      <td>P3128</td>\n",
       "      <td>2096</td>\n",
       "      <td>7.648263</td>\n",
       "      <td>9764.086914</td>\n",
       "      <td>9.186569</td>\n",
       "      <td>153.982452</td>\n",
       "      <td>5.043312</td>\n",
       "      <td>1.577029</td>\n",
       "      <td>2096</td>\n",
       "      <td>D2</td>\n",
       "    </tr>\n",
       "    <tr>\n",
       "      <th>P3128_1195</th>\n",
       "      <td>In_Vitro</td>\n",
       "      <td>1.0</td>\n",
       "      <td>3</td>\n",
       "      <td>NaN</td>\n",
       "      <td>3.0</td>\n",
       "      <td>P3128</td>\n",
       "      <td>3835</td>\n",
       "      <td>8.252185</td>\n",
       "      <td>16073.039062</td>\n",
       "      <td>9.684960</td>\n",
       "      <td>149.850571</td>\n",
       "      <td>5.016290</td>\n",
       "      <td>0.932310</td>\n",
       "      <td>3835</td>\n",
       "      <td>D2</td>\n",
       "    </tr>\n",
       "    <tr>\n",
       "      <th>P3128_1197</th>\n",
       "      <td>In_Vitro</td>\n",
       "      <td>1.0</td>\n",
       "      <td>3</td>\n",
       "      <td>NaN</td>\n",
       "      <td>3.0</td>\n",
       "      <td>P3128</td>\n",
       "      <td>3138</td>\n",
       "      <td>8.051660</td>\n",
       "      <td>13698.959961</td>\n",
       "      <td>9.525148</td>\n",
       "      <td>135.056458</td>\n",
       "      <td>4.913070</td>\n",
       "      <td>0.985888</td>\n",
       "      <td>3138</td>\n",
       "      <td>D2</td>\n",
       "    </tr>\n",
       "    <tr>\n",
       "      <th>P3128_1198</th>\n",
       "      <td>In_Vitro</td>\n",
       "      <td>1.0</td>\n",
       "      <td>3</td>\n",
       "      <td>NaN</td>\n",
       "      <td>3.0</td>\n",
       "      <td>P3128</td>\n",
       "      <td>3761</td>\n",
       "      <td>8.232706</td>\n",
       "      <td>16299.359375</td>\n",
       "      <td>9.698942</td>\n",
       "      <td>159.517776</td>\n",
       "      <td>5.078405</td>\n",
       "      <td>0.978675</td>\n",
       "      <td>3761</td>\n",
       "      <td>D2</td>\n",
       "    </tr>\n",
       "    <tr>\n",
       "      <th>...</th>\n",
       "      <td>...</td>\n",
       "      <td>...</td>\n",
       "      <td>...</td>\n",
       "      <td>...</td>\n",
       "      <td>...</td>\n",
       "      <td>...</td>\n",
       "      <td>...</td>\n",
       "      <td>...</td>\n",
       "      <td>...</td>\n",
       "      <td>...</td>\n",
       "      <td>...</td>\n",
       "      <td>...</td>\n",
       "      <td>...</td>\n",
       "      <td>...</td>\n",
       "      <td>...</td>\n",
       "    </tr>\n",
       "    <tr>\n",
       "      <th>P3128_1569</th>\n",
       "      <td>In_Vitro</td>\n",
       "      <td>1.0</td>\n",
       "      <td>54</td>\n",
       "      <td>NaN</td>\n",
       "      <td>54.0</td>\n",
       "      <td>P3128</td>\n",
       "      <td>4584</td>\n",
       "      <td>8.430545</td>\n",
       "      <td>18854.146484</td>\n",
       "      <td>9.844542</td>\n",
       "      <td>173.735092</td>\n",
       "      <td>5.163271</td>\n",
       "      <td>0.921469</td>\n",
       "      <td>4584</td>\n",
       "      <td>H4</td>\n",
       "    </tr>\n",
       "    <tr>\n",
       "      <th>P3128_1570</th>\n",
       "      <td>In_Vitro</td>\n",
       "      <td>1.0</td>\n",
       "      <td>11</td>\n",
       "      <td>NaN</td>\n",
       "      <td>11.0</td>\n",
       "      <td>P3128</td>\n",
       "      <td>4137</td>\n",
       "      <td>8.327968</td>\n",
       "      <td>17543.751953</td>\n",
       "      <td>9.772511</td>\n",
       "      <td>174.390732</td>\n",
       "      <td>5.167016</td>\n",
       "      <td>0.994033</td>\n",
       "      <td>4137</td>\n",
       "      <td>H4</td>\n",
       "    </tr>\n",
       "    <tr>\n",
       "      <th>P3128_1571</th>\n",
       "      <td>In_Vitro</td>\n",
       "      <td>1.0</td>\n",
       "      <td>11</td>\n",
       "      <td>NaN</td>\n",
       "      <td>11.0</td>\n",
       "      <td>P3128</td>\n",
       "      <td>3604</td>\n",
       "      <td>8.190077</td>\n",
       "      <td>15926.811523</td>\n",
       "      <td>9.675822</td>\n",
       "      <td>161.324783</td>\n",
       "      <td>5.089599</td>\n",
       "      <td>1.012913</td>\n",
       "      <td>3604</td>\n",
       "      <td>H4</td>\n",
       "    </tr>\n",
       "    <tr>\n",
       "      <th>P3128_1572</th>\n",
       "      <td>In_Vitro</td>\n",
       "      <td>1.0</td>\n",
       "      <td>11</td>\n",
       "      <td>NaN</td>\n",
       "      <td>11.0</td>\n",
       "      <td>P3128</td>\n",
       "      <td>3183</td>\n",
       "      <td>8.065894</td>\n",
       "      <td>14301.057617</td>\n",
       "      <td>9.568159</td>\n",
       "      <td>178.166626</td>\n",
       "      <td>5.188316</td>\n",
       "      <td>1.245828</td>\n",
       "      <td>3183</td>\n",
       "      <td>H4</td>\n",
       "    </tr>\n",
       "    <tr>\n",
       "      <th>P3128_1574</th>\n",
       "      <td>In_Vitro</td>\n",
       "      <td>1.0</td>\n",
       "      <td>54</td>\n",
       "      <td>NaN</td>\n",
       "      <td>54.0</td>\n",
       "      <td>P3128</td>\n",
       "      <td>2773</td>\n",
       "      <td>7.928046</td>\n",
       "      <td>12414.695312</td>\n",
       "      <td>9.426717</td>\n",
       "      <td>167.249512</td>\n",
       "      <td>5.125448</td>\n",
       "      <td>1.347190</td>\n",
       "      <td>2773</td>\n",
       "      <td>H4</td>\n",
       "    </tr>\n",
       "  </tbody>\n",
       "</table>\n",
       "<p>324 rows × 15 columns</p>\n",
       "</div>"
      ],
      "text/plain": [
       "           Condition  Cell_Number Clone_ID  Day  In_Vivo_Clone_ID Project_ID  \\\n",
       "P3128_1193  In_Vitro          1.0        3  NaN               3.0      P3128   \n",
       "P3128_1194  In_Vitro          1.0        3  NaN               3.0      P3128   \n",
       "P3128_1195  In_Vitro          1.0        3  NaN               3.0      P3128   \n",
       "P3128_1197  In_Vitro          1.0        3  NaN               3.0      P3128   \n",
       "P3128_1198  In_Vitro          1.0        3  NaN               3.0      P3128   \n",
       "...              ...          ...      ...  ...               ...        ...   \n",
       "P3128_1569  In_Vitro          1.0       54  NaN              54.0      P3128   \n",
       "P3128_1570  In_Vitro          1.0       11  NaN              11.0      P3128   \n",
       "P3128_1571  In_Vitro          1.0       11  NaN              11.0      P3128   \n",
       "P3128_1572  In_Vitro          1.0       11  NaN              11.0      P3128   \n",
       "P3128_1574  In_Vitro          1.0       54  NaN              54.0      P3128   \n",
       "\n",
       "            n_genes_by_counts  log1p_n_genes_by_counts  total_counts  \\\n",
       "P3128_1193               3617                 8.193677  16080.742188   \n",
       "P3128_1194               2096                 7.648263   9764.086914   \n",
       "P3128_1195               3835                 8.252185  16073.039062   \n",
       "P3128_1197               3138                 8.051660  13698.959961   \n",
       "P3128_1198               3761                 8.232706  16299.359375   \n",
       "...                       ...                      ...           ...   \n",
       "P3128_1569               4584                 8.430545  18854.146484   \n",
       "P3128_1570               4137                 8.327968  17543.751953   \n",
       "P3128_1571               3604                 8.190077  15926.811523   \n",
       "P3128_1572               3183                 8.065894  14301.057617   \n",
       "P3128_1574               2773                 7.928046  12414.695312   \n",
       "\n",
       "            log1p_total_counts  total_counts_mt  log1p_total_counts_mt  \\\n",
       "P3128_1193            9.685440       161.011322               5.087666   \n",
       "P3128_1194            9.186569       153.982452               5.043312   \n",
       "P3128_1195            9.684960       149.850571               5.016290   \n",
       "P3128_1197            9.525148       135.056458               4.913070   \n",
       "P3128_1198            9.698942       159.517776               5.078405   \n",
       "...                        ...              ...                    ...   \n",
       "P3128_1569            9.844542       173.735092               5.163271   \n",
       "P3128_1570            9.772511       174.390732               5.167016   \n",
       "P3128_1571            9.675822       161.324783               5.089599   \n",
       "P3128_1572            9.568159       178.166626               5.188316   \n",
       "P3128_1574            9.426717       167.249512               5.125448   \n",
       "\n",
       "            pct_counts_mt  n_genes Well_ID  \n",
       "P3128_1193       1.001268     3617      D2  \n",
       "P3128_1194       1.577029     2096      D2  \n",
       "P3128_1195       0.932310     3835      D2  \n",
       "P3128_1197       0.985888     3138      D2  \n",
       "P3128_1198       0.978675     3761      D2  \n",
       "...                   ...      ...     ...  \n",
       "P3128_1569       0.921469     4584      H4  \n",
       "P3128_1570       0.994033     4137      H4  \n",
       "P3128_1571       1.012913     3604      H4  \n",
       "P3128_1572       1.245828     3183      H4  \n",
       "P3128_1574       1.347190     2773      H4  \n",
       "\n",
       "[324 rows x 15 columns]"
      ]
     },
     "execution_count": 31,
     "metadata": {},
     "output_type": "execute_result"
    }
   ],
   "source": [
    "adata['sc'].obs['Clone_ID'] = clone_df['Clone_ID']\n",
    "adata['sc'].obs['Well_ID'] = clone_df['Well_ID']\n",
    "adata['sc'].obs"
   ]
  },
  {
   "cell_type": "markdown",
   "id": "53fa284b",
   "metadata": {},
   "source": [
    "# Gene metrics\n",
    "\n",
    "Here we annotate each gene with metrics which will be used later.  \n",
    "\n",
    "## Highly variable genes\n",
    "The first is a ranking for highly variable genes.  Before normalization, we used Scanpy's [highly variable genes](https://scanpy.readthedocs.io/en/stable/api/scanpy.pp.highly_variable_genes.html) function, which annotates the highly variable genes using the methods of Seurat v3. Here we examine the 10 most variable genes."
   ]
  },
  {
   "cell_type": "code",
   "execution_count": 32,
   "id": "2688ee56",
   "metadata": {},
   "outputs": [
    {
     "data": {
      "text/plain": [
       "gene_name\n",
       "STMN1        5.0\n",
       "TUBB         6.0\n",
       "CSF2         7.0\n",
       "HIST1H4C    10.0\n",
       "CCL3        11.0\n",
       "TUBA1B      14.0\n",
       "HMGB2       15.0\n",
       "EGR1        17.0\n",
       "CCL4        18.0\n",
       "NUSAP1      22.0\n",
       "Name: highly_variable_rank, dtype: float32"
      ]
     },
     "execution_count": 32,
     "metadata": {},
     "output_type": "execute_result"
    }
   ],
   "source": [
    "adata['sc'].var.highly_variable_rank.sort_values()[:10]"
   ]
  },
  {
   "cell_type": "markdown",
   "id": "c6a60329",
   "metadata": {},
   "source": [
    "## Always on genes\n",
    "\n",
    "Some genes are \"always on\" -- almost every cell expressed the gene above some minimum threshold.  We add a statistic for the percentage of cells in which the gene is expressed above a threshold of 10 (TPM-normalized count)."
   ]
  },
  {
   "cell_type": "code",
   "execution_count": 33,
   "id": "5528a30c",
   "metadata": {},
   "outputs": [],
   "source": [
    "def on_ratio(ad, threshold=10):\n",
    "    ad_out = ad.copy()\n",
    "    EM = ad_out.to_df() \n",
    "    ad_out.var['on_ratio'] = (EM > np.log1p(10)).sum() / len(EM)\n",
    "    return ad_out"
   ]
  },
  {
   "cell_type": "code",
   "execution_count": 34,
   "id": "45d8a27e",
   "metadata": {},
   "outputs": [],
   "source": [
    "for ds in datasets:\n",
    "    adata[ds] = on_ratio(adata[ds])"
   ]
  },
  {
   "cell_type": "markdown",
   "id": "8c00a36b",
   "metadata": {},
   "source": [
    "## Clonality statistics\n",
    "\n",
    "We annotate genes based on statistics for clonality:  ANOVA F, Kruskal-Wallis, and chi^2 (after binarization)."
   ]
  },
  {
   "cell_type": "code",
   "execution_count": 35,
   "id": "aaabc3fe",
   "metadata": {},
   "outputs": [],
   "source": [
    "def group_stats(ad, groupby='Clone_ID'):\n",
    "    X = ad.to_df()\n",
    "    y = ad.obs[groupby]\n",
    "    F_pvals = ss.f_oneway(*[X[y == k] for k in np.unique(y)])[1]\n",
    "    print('ANOVA F complete.  Kruskal-Wallis may take a minute now.')\n",
    "    K_pvals = X.apply(lambda col : ss.kruskal(*[col[y == k] for k in np.unique(y)])[1])\n",
    "    chi2_pvals = chi2(X > np.log1p(10),y)[1]\n",
    "    ad_out = ad.copy()\n",
    "    ad_out.var['F_pval'] = F_pvals\n",
    "    ad_out.var['K_pval'] = K_pvals\n",
    "    ad_out.var['chi2_pval'] = chi2_pvals\n",
    "    return ad_out"
   ]
  },
  {
   "cell_type": "code",
   "execution_count": 36,
   "id": "be257426",
   "metadata": {},
   "outputs": [
    {
     "name": "stdout",
     "output_type": "stream",
     "text": [
      "ANOVA F complete.  Kruskal-Wallis may take a minute now.\n"
     ]
    }
   ],
   "source": [
    "for ds in ['sc']:\n",
    "    adata[ds] = group_stats(adata[ds])"
   ]
  },
  {
   "cell_type": "code",
   "execution_count": 37,
   "id": "56bb4e49",
   "metadata": {},
   "outputs": [
    {
     "data": {
      "image/png": "[encoded data removed]",
      "text/plain": [
       "<Figure size 432x432 with 1 Axes>"
      ]
     },
     "metadata": {
      "needs_background": "light"
     },
     "output_type": "display_data"
    }
   ],
   "source": [
    "fig,ax = plt.subplots(1,1,figsize=(6,6))\n",
    "plt.scatter(adata['sc'].var.F_pval, adata['sc'].var.K_pval, s=2)\n",
    "ax.set_xscale('log')\n",
    "ax.set_yscale('log')"
   ]
  },
  {
   "cell_type": "markdown",
   "id": "539db296",
   "metadata": {},
   "source": [
    "## Pathway annotation\n",
    "\n",
    "We annotate some genes based on a custom list of gene pathways."
   ]
  },
  {
   "cell_type": "code",
   "execution_count": 38,
   "id": "e7163090",
   "metadata": {},
   "outputs": [
    {
     "name": "stdout",
     "output_type": "stream",
     "text": [
      "Adding annotation for the following pathways: CD3/TCR Signaling, Cytotoxicity, Exhaustion, IL-2R Signaling, Ribosomal Processes, MT-genes, Mitochondrial Respiration, Interferon Signaling\n"
     ]
    }
   ],
   "source": [
    "pathway_df = pd.read_csv('Raw/Pathway_List_Feb182020_JEMcurated.csv')\n",
    "pathways = list(pathway_df.columns)\n",
    "print('Adding annotation for the following pathways: {}'.format(', '.join(pathways)))"
   ]
  },
  {
   "cell_type": "code",
   "execution_count": 39,
   "id": "a86eeb39",
   "metadata": {},
   "outputs": [],
   "source": [
    "def add_paths(ad):\n",
    "    ad_out = ad.copy()\n",
    "    ad_out.var['pathway'] = ''\n",
    "    for pathway in pathways:\n",
    "        pathgenes = pathway_df[pathway].dropna().values\n",
    "        for gene in pathgenes:\n",
    "            if gene in ad_out.var_names:\n",
    "                ad_out.var.loc[gene,'pathway'] = pathway\n",
    "    return ad_out"
   ]
  },
  {
   "cell_type": "code",
   "execution_count": 40,
   "id": "9e9be440",
   "metadata": {},
   "outputs": [],
   "source": [
    "for ds in datasets:\n",
    "    adata[ds] = add_paths(adata[ds])"
   ]
  },
  {
   "cell_type": "code",
   "execution_count": null,
   "id": "aecb79f6",
   "metadata": {},
   "outputs": [],
   "source": []
  },
  {
   "cell_type": "markdown",
   "id": "cc9402a8",
   "metadata": {},
   "source": [
    "# Summary and saving AnnData objects"
   ]
  },
  {
   "cell_type": "code",
   "execution_count": 41,
   "id": "sought-shoot",
   "metadata": {},
   "outputs": [
    {
     "name": "stdout",
     "output_type": "stream",
     "text": [
      "Summary of sc data\n",
      "AnnData object with n_obs × n_vars = 324 × 8693\n",
      "    obs: 'Condition', 'Cell_Number', 'Clone_ID', 'Day', 'In_Vivo_Clone_ID', 'Project_ID', 'n_genes_by_counts', 'log1p_n_genes_by_counts', 'total_counts', 'log1p_total_counts', 'total_counts_mt', 'log1p_total_counts_mt', 'pct_counts_mt', 'n_genes', 'Well_ID'\n",
      "    var: 'transcript_length', 'GC_content', 'gene_name', 'highly_variable', 'highly_variable_rank', 'means', 'variances', 'variances_norm', 'mt', 'n_cells_by_counts', 'mean_counts', 'log1p_mean_counts', 'pct_dropout_by_counts', 'total_counts', 'log1p_total_counts', 'on_ratio', 'F_pval', 'K_pval', 'chi2_pval', 'pathway'\n",
      "    uns: 'hvg', 'log1p'\n",
      "================================================================================\n",
      "Summary of bulks data\n",
      "AnnData object with n_obs × n_vars = 38 × 11043\n",
      "    obs: 'Condition', 'Cell_Number', 'Clone_ID', 'Day', 'In_Vivo_Clone_ID', 'Project_ID', 'n_genes_by_counts', 'log1p_n_genes_by_counts', 'total_counts', 'log1p_total_counts', 'total_counts_mt', 'log1p_total_counts_mt', 'pct_counts_mt'\n",
      "    var: 'transcript_length', 'GC_content', 'gene_name', 'highly_variable', 'highly_variable_rank', 'means', 'variances', 'variances_norm', 'mt', 'n_cells_by_counts', 'mean_counts', 'log1p_mean_counts', 'pct_dropout_by_counts', 'total_counts', 'log1p_total_counts', 'on_ratio', 'pathway'\n",
      "    uns: 'hvg', 'log1p'\n",
      "================================================================================\n"
     ]
    }
   ],
   "source": [
    "for ds in datasets:\n",
    "    print('Summary of {} data'.format(ds))\n",
    "    print(adata[ds])\n",
    "    hrule()"
   ]
  },
  {
   "cell_type": "code",
   "execution_count": 42,
   "id": "expanded-affair",
   "metadata": {},
   "outputs": [
    {
     "name": "stdout",
     "output_type": "stream",
     "text": [
      "Data written to Processed/P3128_sc.loom\n",
      "Data written to Processed/P3128_bulks.loom\n"
     ]
    }
   ],
   "source": [
    "for ds in datasets:\n",
    "    filename = file_prefix+'P3128_'+ds+file_suffix\n",
    "    adata[ds].write_loom(filename)\n",
    "    print('Data written to {}'.format(filename))"
   ]
  },
  {
   "cell_type": "markdown",
   "id": "34fdbb74",
   "metadata": {},
   "source": [
    "# Loading protein data\n",
    "Now we load the protein data.  We give a list of \"default\" proteins to look for here."
   ]
  },
  {
   "cell_type": "code",
   "execution_count": 43,
   "id": "70dfb898",
   "metadata": {},
   "outputs": [],
   "source": [
    "proteins_default = ['CD57', 'FAS', 'PTPRC-CD45RA', 'CD4', 'IL7RA','Dextramer', \n",
    "                    'CD3E', 'CD8A', 'CCR7', 'ITGA6-CD49F', 'PDCD1', 'CD27']"
   ]
  },
  {
   "cell_type": "code",
   "execution_count": 44,
   "id": "b35ab4bc",
   "metadata": {},
   "outputs": [],
   "source": [
    "def get_proteins(filename, cell_list, proteins = proteins_default):\n",
    "    df = pd.read_csv(filename, sep=',',\n",
    "                      index_col=0, header=0, low_memory=False)\n",
    "    df = df.reindex(cell_list)\n",
    "    proteins_occurring = [p for p in proteins if p in df.columns]\n",
    "    df = df[proteins_occurring]\n",
    "    df = df.apply(pd.to_numeric, errors='coerce')\n",
    "    print('Average protein measurement for {} samples and {} proteins.'.format(len(df), len(df.columns)))\n",
    "    display(df.mean(axis=0))\n",
    "    return df"
   ]
  },
  {
   "cell_type": "code",
   "execution_count": 45,
   "id": "f92de9f9",
   "metadata": {},
   "outputs": [
    {
     "name": "stdout",
     "output_type": "stream",
     "text": [
      "Average protein measurement for 324 samples and 7 proteins.\n"
     ]
    },
    {
     "data": {
      "text/plain": [
       "CD57              607.390323\n",
       "FAS             12181.758065\n",
       "PTPRC-CD45RA      310.948387\n",
       "CD3E              642.441935\n",
       "CD8A            16554.535484\n",
       "PDCD1            2688.583871\n",
       "CD27              653.935484\n",
       "dtype: float64"
      ]
     },
     "metadata": {},
     "output_type": "display_data"
    },
    {
     "data": {
      "text/html": [
       "<div>\n",
       "<style scoped>\n",
       "    .dataframe tbody tr th:only-of-type {\n",
       "        vertical-align: middle;\n",
       "    }\n",
       "\n",
       "    .dataframe tbody tr th {\n",
       "        vertical-align: top;\n",
       "    }\n",
       "\n",
       "    .dataframe thead th {\n",
       "        text-align: right;\n",
       "    }\n",
       "</style>\n",
       "<table border=\"1\" class=\"dataframe\">\n",
       "  <thead>\n",
       "    <tr style=\"text-align: right;\">\n",
       "      <th></th>\n",
       "      <th>CD57</th>\n",
       "      <th>FAS</th>\n",
       "      <th>PTPRC-CD45RA</th>\n",
       "      <th>CD3E</th>\n",
       "      <th>CD8A</th>\n",
       "      <th>PDCD1</th>\n",
       "      <th>CD27</th>\n",
       "    </tr>\n",
       "  </thead>\n",
       "  <tbody>\n",
       "    <tr>\n",
       "      <th>P3128_1193</th>\n",
       "      <td>0.0</td>\n",
       "      <td>17391.0</td>\n",
       "      <td>623.0</td>\n",
       "      <td>661.0</td>\n",
       "      <td>15652.0</td>\n",
       "      <td>5759.0</td>\n",
       "      <td>628.0</td>\n",
       "    </tr>\n",
       "    <tr>\n",
       "      <th>P3128_1194</th>\n",
       "      <td>35.0</td>\n",
       "      <td>9330.0</td>\n",
       "      <td>194.0</td>\n",
       "      <td>385.0</td>\n",
       "      <td>3221.0</td>\n",
       "      <td>1542.0</td>\n",
       "      <td>1765.0</td>\n",
       "    </tr>\n",
       "    <tr>\n",
       "      <th>P3128_1195</th>\n",
       "      <td>7.0</td>\n",
       "      <td>14108.0</td>\n",
       "      <td>67.0</td>\n",
       "      <td>-4516.0</td>\n",
       "      <td>18247.0</td>\n",
       "      <td>110356.0</td>\n",
       "      <td>340.0</td>\n",
       "    </tr>\n",
       "    <tr>\n",
       "      <th>P3128_1197</th>\n",
       "      <td>50.0</td>\n",
       "      <td>7071.0</td>\n",
       "      <td>89.0</td>\n",
       "      <td>744.0</td>\n",
       "      <td>32079.0</td>\n",
       "      <td>3708.0</td>\n",
       "      <td>1289.0</td>\n",
       "    </tr>\n",
       "    <tr>\n",
       "      <th>P3128_1198</th>\n",
       "      <td>40.0</td>\n",
       "      <td>6554.0</td>\n",
       "      <td>93.0</td>\n",
       "      <td>464.0</td>\n",
       "      <td>21720.0</td>\n",
       "      <td>3971.0</td>\n",
       "      <td>621.0</td>\n",
       "    </tr>\n",
       "  </tbody>\n",
       "</table>\n",
       "</div>"
      ],
      "text/plain": [
       "            CD57      FAS  PTPRC-CD45RA    CD3E     CD8A     PDCD1    CD27\n",
       "P3128_1193   0.0  17391.0         623.0   661.0  15652.0    5759.0   628.0\n",
       "P3128_1194  35.0   9330.0         194.0   385.0   3221.0    1542.0  1765.0\n",
       "P3128_1195   7.0  14108.0          67.0 -4516.0  18247.0  110356.0   340.0\n",
       "P3128_1197  50.0   7071.0          89.0   744.0  32079.0    3708.0  1289.0\n",
       "P3128_1198  40.0   6554.0          93.0   464.0  21720.0    3971.0   621.0"
      ]
     },
     "execution_count": 45,
     "metadata": {},
     "output_type": "execute_result"
    }
   ],
   "source": [
    "protein_df = get_proteins('Raw/P3128_protein.csv', cells)\n",
    "protein_df.head()"
   ]
  },
  {
   "cell_type": "code",
   "execution_count": 46,
   "id": "f9ff7972",
   "metadata": {},
   "outputs": [
    {
     "name": "stdout",
     "output_type": "stream",
     "text": [
      "Average protein measurement for 38 samples and 12 proteins.\n"
     ]
    },
    {
     "data": {
      "text/plain": [
       "CD57           NaN\n",
       "FAS            NaN\n",
       "PTPRC-CD45RA   NaN\n",
       "CD4            NaN\n",
       "IL7RA          NaN\n",
       "Dextramer      NaN\n",
       "CD3E           NaN\n",
       "CD8A           NaN\n",
       "CCR7           NaN\n",
       "ITGA6-CD49F    NaN\n",
       "PDCD1          NaN\n",
       "CD27           NaN\n",
       "dtype: float64"
      ]
     },
     "metadata": {},
     "output_type": "display_data"
    },
    {
     "data": {
      "text/html": [
       "<div>\n",
       "<style scoped>\n",
       "    .dataframe tbody tr th:only-of-type {\n",
       "        vertical-align: middle;\n",
       "    }\n",
       "\n",
       "    .dataframe tbody tr th {\n",
       "        vertical-align: top;\n",
       "    }\n",
       "\n",
       "    .dataframe thead th {\n",
       "        text-align: right;\n",
       "    }\n",
       "</style>\n",
       "<table border=\"1\" class=\"dataframe\">\n",
       "  <thead>\n",
       "    <tr style=\"text-align: right;\">\n",
       "      <th></th>\n",
       "      <th>CD57</th>\n",
       "      <th>FAS</th>\n",
       "      <th>PTPRC-CD45RA</th>\n",
       "      <th>CD4</th>\n",
       "      <th>IL7RA</th>\n",
       "      <th>Dextramer</th>\n",
       "      <th>CD3E</th>\n",
       "      <th>CD8A</th>\n",
       "      <th>CCR7</th>\n",
       "      <th>ITGA6-CD49F</th>\n",
       "      <th>PDCD1</th>\n",
       "      <th>CD27</th>\n",
       "    </tr>\n",
       "  </thead>\n",
       "  <tbody>\n",
       "    <tr>\n",
       "      <th>P3128_1200</th>\n",
       "      <td>NaN</td>\n",
       "      <td>NaN</td>\n",
       "      <td>NaN</td>\n",
       "      <td>NaN</td>\n",
       "      <td>NaN</td>\n",
       "      <td>NaN</td>\n",
       "      <td>NaN</td>\n",
       "      <td>NaN</td>\n",
       "      <td>NaN</td>\n",
       "      <td>NaN</td>\n",
       "      <td>NaN</td>\n",
       "      <td>NaN</td>\n",
       "    </tr>\n",
       "    <tr>\n",
       "      <th>P3128_1208</th>\n",
       "      <td>NaN</td>\n",
       "      <td>NaN</td>\n",
       "      <td>NaN</td>\n",
       "      <td>NaN</td>\n",
       "      <td>NaN</td>\n",
       "      <td>NaN</td>\n",
       "      <td>NaN</td>\n",
       "      <td>NaN</td>\n",
       "      <td>NaN</td>\n",
       "      <td>NaN</td>\n",
       "      <td>NaN</td>\n",
       "      <td>NaN</td>\n",
       "    </tr>\n",
       "    <tr>\n",
       "      <th>P3128_1216</th>\n",
       "      <td>NaN</td>\n",
       "      <td>NaN</td>\n",
       "      <td>NaN</td>\n",
       "      <td>NaN</td>\n",
       "      <td>NaN</td>\n",
       "      <td>NaN</td>\n",
       "      <td>NaN</td>\n",
       "      <td>NaN</td>\n",
       "      <td>NaN</td>\n",
       "      <td>NaN</td>\n",
       "      <td>NaN</td>\n",
       "      <td>NaN</td>\n",
       "    </tr>\n",
       "    <tr>\n",
       "      <th>P3128_1224</th>\n",
       "      <td>NaN</td>\n",
       "      <td>NaN</td>\n",
       "      <td>NaN</td>\n",
       "      <td>NaN</td>\n",
       "      <td>NaN</td>\n",
       "      <td>NaN</td>\n",
       "      <td>NaN</td>\n",
       "      <td>NaN</td>\n",
       "      <td>NaN</td>\n",
       "      <td>NaN</td>\n",
       "      <td>NaN</td>\n",
       "      <td>NaN</td>\n",
       "    </tr>\n",
       "    <tr>\n",
       "      <th>P3128_1232</th>\n",
       "      <td>NaN</td>\n",
       "      <td>NaN</td>\n",
       "      <td>NaN</td>\n",
       "      <td>NaN</td>\n",
       "      <td>NaN</td>\n",
       "      <td>NaN</td>\n",
       "      <td>NaN</td>\n",
       "      <td>NaN</td>\n",
       "      <td>NaN</td>\n",
       "      <td>NaN</td>\n",
       "      <td>NaN</td>\n",
       "      <td>NaN</td>\n",
       "    </tr>\n",
       "  </tbody>\n",
       "</table>\n",
       "</div>"
      ],
      "text/plain": [
       "            CD57  FAS  PTPRC-CD45RA  CD4  IL7RA  Dextramer  CD3E  CD8A  CCR7  \\\n",
       "P3128_1200   NaN  NaN           NaN  NaN    NaN        NaN   NaN   NaN   NaN   \n",
       "P3128_1208   NaN  NaN           NaN  NaN    NaN        NaN   NaN   NaN   NaN   \n",
       "P3128_1216   NaN  NaN           NaN  NaN    NaN        NaN   NaN   NaN   NaN   \n",
       "P3128_1224   NaN  NaN           NaN  NaN    NaN        NaN   NaN   NaN   NaN   \n",
       "P3128_1232   NaN  NaN           NaN  NaN    NaN        NaN   NaN   NaN   NaN   \n",
       "\n",
       "            ITGA6-CD49F  PDCD1  CD27  \n",
       "P3128_1200          NaN    NaN   NaN  \n",
       "P3128_1208          NaN    NaN   NaN  \n",
       "P3128_1216          NaN    NaN   NaN  \n",
       "P3128_1224          NaN    NaN   NaN  \n",
       "P3128_1232          NaN    NaN   NaN  "
      ]
     },
     "execution_count": 46,
     "metadata": {},
     "output_type": "execute_result"
    }
   ],
   "source": [
    "protein_bulks = get_proteins('Raw/P1902_protein.csv', bulks)\n",
    "protein_bulks.head()"
   ]
  },
  {
   "cell_type": "markdown",
   "id": "a0eed220",
   "metadata": {},
   "source": [
    "## Pickling\n",
    "\n",
    "We pickle all of our loaded data frames, just in case."
   ]
  },
  {
   "cell_type": "code",
   "execution_count": 47,
   "id": "30afd0f2",
   "metadata": {},
   "outputs": [],
   "source": [
    "experiment = 'P3128'\n",
    "protein_df.to_pickle('Processed/'+experiment+'_protein.pkl') # Pickled proteins.  Mmmmm...\n",
    "protein_bulks.to_pickle('Processed/'+experiment+'_protein_bulks.pkl') # Pickled proteins.  Mmmmm..."
   ]
  },
  {
   "cell_type": "code",
   "execution_count": null,
   "id": "bf36728f",
   "metadata": {},
   "outputs": [],
   "source": []
  }
 ],
 "metadata": {
  "kernelspec": {
   "display_name": "Python 3",
   "language": "python",
   "name": "python3"
  },
  "language_info": {
   "codemirror_mode": {
    "name": "ipython",
    "version": 3
   },
   "file_extension": ".py",
   "mimetype": "text/x-python",
   "name": "python",
   "nbconvert_exporter": "python",
   "pygments_lexer": "ipython3",
   "version": "3.8.8"
  }
 },
 "nbformat": 4,
 "nbformat_minor": 5
}
