{
 "cells": [
  {
   "cell_type": "markdown",
   "id": "professional-gallery",
   "metadata": {},
   "source": [
    "# Preprocessing P1902 with Scanpy\n",
    "\n",
    "Here we load the data from P1902:  In vitro, in vivo, and bulks.  We keep these separate throughout.  We load the metadata, expression matrices, and we load gene metadata (from the BioMart).  We put all this together into three Scanpy AnnData objects, and then carry out various steps of filtering and normalization."
   ]
  },
  {
   "cell_type": "markdown",
   "id": "administrative-meeting",
   "metadata": {},
   "source": [
    "# Loading packages"
   ]
  },
  {
   "cell_type": "code",
   "execution_count": 1,
   "id": "affected-ranch",
   "metadata": {},
   "outputs": [
    {
     "name": "stdout",
     "output_type": "stream",
     "text": [
      "scanpy==1.7.1 anndata==0.7.6 umap==0.5.1 numpy==1.20.1 scipy==1.6.1 pandas==1.2.3 scikit-learn==0.24.1 statsmodels==0.12.2 python-igraph==0.8.3 louvain==0.7.0 leidenalg==0.8.3\n"
     ]
    }
   ],
   "source": [
    "import pandas as pd  # Pandas for data analysis.\n",
    "import numpy as np\n",
    "import scipy.stats as ss\n",
    "import matplotlib.pyplot as plt  # For basic plotting.\n",
    "import seaborn as sns # For pretty visualization in Seaborn.  See https://seaborn.pydata.org/\n",
    "from IPython.display import display # Pretty display of data frames.\n",
    "\n",
    "from sklearn import base\n",
    "from sklearn.feature_selection import chi2, f_classif\n",
    "\n",
    "import scanpy as sc\n",
    "sc.settings.verbosity = 1             # verbosity: errors (0), warnings (1), info (2), hints (3)\n",
    "sc.logging.print_header()\n",
    "sc.settings.set_figure_params(dpi=80, facecolor='white')\n",
    "\n",
    "# Put plots inline rather than in a pop-up.\n",
    "%matplotlib inline"
   ]
  },
  {
   "cell_type": "code",
   "execution_count": 2,
   "id": "confident-alberta",
   "metadata": {},
   "outputs": [],
   "source": [
    "file_prefix = 'Processed/'\n",
    "file_suffix = '.loom'"
   ]
  },
  {
   "cell_type": "code",
   "execution_count": 3,
   "id": "0ce69b8c",
   "metadata": {},
   "outputs": [],
   "source": [
    "def hrule(repchar = '=', length=80):\n",
    "    '''\n",
    "    A quick function to print a horizontal line.\n",
    "    '''\n",
    "    if len(repchar) == 1:\n",
    "        print(repchar*length)"
   ]
  },
  {
   "cell_type": "markdown",
   "id": "discrete-snake",
   "metadata": {},
   "source": [
    "# Loading data"
   ]
  },
  {
   "cell_type": "markdown",
   "id": "0b51ffe0",
   "metadata": {},
   "source": [
    "## Getting gene data\n",
    "\n",
    "Gene data was downloaded [GRCh7 at the biomart](https://grch37.ensembl.org/info/data/biomart/index.html), and we work at the level of distinct Ensembl IDs.  Transcript length (used for TPM normalization) is obtained by averaging all entries with a given Ensembl ID."
   ]
  },
  {
   "cell_type": "code",
   "execution_count": 4,
   "id": "entitled-activity",
   "metadata": {},
   "outputs": [],
   "source": [
    "def get_genes(filename, verbose=True):\n",
    "    gene_raw = pd.read_csv(filename, sep='\\t', index_col=0, header=0, low_memory=False)\n",
    "    gene_raw.columns = ['transcript_length', 'gene_name', 'GC_content','transcript stable ID', 'TSS']\n",
    "    if verbose:\n",
    "        print('{} genes found in {}.'.format(len(gene_raw), filename))\n",
    "    \n",
    "    gene_lengths = gene_raw['transcript_length'].groupby(gene_raw.index).mean()\n",
    "    gene_GCs = gene_raw['GC_content'].groupby(gene_raw.index).mean()\n",
    "    gene_df = pd.DataFrame(gene_lengths, index=gene_lengths.index)\n",
    "    gene_df['GC_content'] = gene_GCs\n",
    "    gene_df['gene_name'] = gene_raw['gene_name'].groupby(gene_raw.index).first()\n",
    "    if verbose:\n",
    "        print('{} distinct Ensembl gene IDs found.'.format(len(gene_df)))\n",
    "        display(gene_df.head())\n",
    "    return gene_df"
   ]
  },
  {
   "cell_type": "code",
   "execution_count": 5,
   "id": "frank-burton",
   "metadata": {},
   "outputs": [
    {
     "name": "stdout",
     "output_type": "stream",
     "text": [
      "215404 genes found in Raw/GRCh37_Biomart.txt.\n",
      "63677 distinct Ensembl gene IDs found.\n"
     ]
    },
    {
     "data": {
      "text/html": [
       "<div>\n",
       "<style scoped>\n",
       "    .dataframe tbody tr th:only-of-type {\n",
       "        vertical-align: middle;\n",
       "    }\n",
       "\n",
       "    .dataframe tbody tr th {\n",
       "        vertical-align: top;\n",
       "    }\n",
       "\n",
       "    .dataframe thead th {\n",
       "        text-align: right;\n",
       "    }\n",
       "</style>\n",
       "<table border=\"1\" class=\"dataframe\">\n",
       "  <thead>\n",
       "    <tr style=\"text-align: right;\">\n",
       "      <th></th>\n",
       "      <th>transcript_length</th>\n",
       "      <th>GC_content</th>\n",
       "      <th>gene_name</th>\n",
       "    </tr>\n",
       "    <tr>\n",
       "      <th>Gene stable ID</th>\n",
       "      <th></th>\n",
       "      <th></th>\n",
       "      <th></th>\n",
       "    </tr>\n",
       "  </thead>\n",
       "  <tbody>\n",
       "    <tr>\n",
       "      <th>ENSG00000000003</th>\n",
       "      <td>1350.333333</td>\n",
       "      <td>40.87</td>\n",
       "      <td>TSPAN6</td>\n",
       "    </tr>\n",
       "    <tr>\n",
       "      <th>ENSG00000000005</th>\n",
       "      <td>940.500000</td>\n",
       "      <td>40.80</td>\n",
       "      <td>TNMD</td>\n",
       "    </tr>\n",
       "    <tr>\n",
       "      <th>ENSG00000000419</th>\n",
       "      <td>974.714286</td>\n",
       "      <td>39.85</td>\n",
       "      <td>DPM1</td>\n",
       "    </tr>\n",
       "    <tr>\n",
       "      <th>ENSG00000000457</th>\n",
       "      <td>3274.400000</td>\n",
       "      <td>40.14</td>\n",
       "      <td>SCYL3</td>\n",
       "    </tr>\n",
       "    <tr>\n",
       "      <th>ENSG00000000460</th>\n",
       "      <td>2197.200000</td>\n",
       "      <td>39.22</td>\n",
       "      <td>C1orf112</td>\n",
       "    </tr>\n",
       "  </tbody>\n",
       "</table>\n",
       "</div>"
      ],
      "text/plain": [
       "                 transcript_length  GC_content gene_name\n",
       "Gene stable ID                                          \n",
       "ENSG00000000003        1350.333333       40.87    TSPAN6\n",
       "ENSG00000000005         940.500000       40.80      TNMD\n",
       "ENSG00000000419         974.714286       39.85      DPM1\n",
       "ENSG00000000457        3274.400000       40.14     SCYL3\n",
       "ENSG00000000460        2197.200000       39.22  C1orf112"
      ]
     },
     "metadata": {},
     "output_type": "display_data"
    }
   ],
   "source": [
    "gene_df = get_genes('Raw/GRCh37_Biomart.txt')"
   ]
  },
  {
   "cell_type": "markdown",
   "id": "accepted-robinson",
   "metadata": {},
   "source": [
    "## Getting cell metadata"
   ]
  },
  {
   "cell_type": "code",
   "execution_count": 6,
   "id": "weird-roots",
   "metadata": {},
   "outputs": [],
   "source": [
    "def get_meta(experiment, filename = '', report=True, invitro = True, invivo = False, bulks = False):\n",
    "    df = pd.read_csv(filename, sep=',', index_col=1, header=0, low_memory=False)\n",
    "    df = df.loc[df['Sample_ID'].notnull()] # Only keep cells with sample ID.\n",
    "    print('Discarding samples without Sample ID.  {} samples remaining.'.format(len(df)))\n",
    "    df['Project_ID'] = [sid[:5] for sid in df.index] \n",
    "    df = df[ df['Project_ID'] == experiment] # Only cells from the experiment.\n",
    "    print('{} samples found in experiment {}.'.format(len(df), experiment))\n",
    "    \n",
    "    df = df.loc[df['Clone_ID'].notnull()] # Only keep cells with Clone ID.\n",
    "    print('Discarding samples without Clone ID.  {} samples remaining.'.format(len(df)))\n",
    "    if invitro:\n",
    "        df = df.loc[df['Condition'] == 'In_Vitro'] \n",
    "        print('Discarding samples that are not in-vitro.  {} samples remaining'.format(len(df)))\n",
    "    elif invivo:\n",
    "        df = df.loc[df['Condition'] == 'In_Vivo'] \n",
    "        print('Discarding samples that are not in-vivo.  {} samples remaining'.format(len(df)))\n",
    "    df.drop('Sample_ID', axis=1, inplace=True)\n",
    "    df.index = [cn[:-1] for cn in df.index]\n",
    "    if bulks:\n",
    "        df = df[ df['Cell_Number'] > 1] # Include only bulks.\n",
    "        print('Discarding single cells.  {} bulks remaining'.format(len(df)))\n",
    "    else:\n",
    "        df = df[ df['Cell_Number'] == 1] # Get rid of bulks.\n",
    "        print('Discarding bulks.  {} single cells remaining'.format(len(df)))\n",
    "    if report:\n",
    "        if bulks:\n",
    "            print('{} bulks found in experiment {}'.format(len(df), experiment))\n",
    "        else:\n",
    "            print('{} single cells found in experiment {}'.format(len(df), experiment))\n",
    "        clones = df['Clone_ID'].unique()\n",
    "        print('{} Clones: {}'.format(len(clones), ', '.join(clones)))\n",
    "        print('The first five rows of the dataframe are below')\n",
    "        display(df[:5])\n",
    "    return df"
   ]
  },
  {
   "cell_type": "code",
   "execution_count": 7,
   "id": "isolated-atlanta",
   "metadata": {},
   "outputs": [
    {
     "name": "stdout",
     "output_type": "stream",
     "text": [
      "Discarding samples without Sample ID.  2345 samples remaining.\n",
      "667 samples found in experiment P1902.\n",
      "Discarding samples without Clone ID.  624 samples remaining.\n",
      "Discarding samples that are not in-vitro.  370 samples remaining\n",
      "Discarding bulks.  361 single cells remaining\n",
      "361 single cells found in experiment P1902\n",
      "9 Clones: E4, A7, A8, G6, G8, H2, H9, B4, F3\n",
      "The first five rows of the dataframe are below\n"
     ]
    },
    {
     "data": {
      "text/html": [
       "<div>\n",
       "<style scoped>\n",
       "    .dataframe tbody tr th:only-of-type {\n",
       "        vertical-align: middle;\n",
       "    }\n",
       "\n",
       "    .dataframe tbody tr th {\n",
       "        vertical-align: top;\n",
       "    }\n",
       "\n",
       "    .dataframe thead th {\n",
       "        text-align: right;\n",
       "    }\n",
       "</style>\n",
       "<table border=\"1\" class=\"dataframe\">\n",
       "  <thead>\n",
       "    <tr style=\"text-align: right;\">\n",
       "      <th></th>\n",
       "      <th>Condition</th>\n",
       "      <th>Cell_Number</th>\n",
       "      <th>Clone_ID</th>\n",
       "      <th>Day</th>\n",
       "      <th>In_Vivo_Clone_ID</th>\n",
       "      <th>Project_ID</th>\n",
       "    </tr>\n",
       "  </thead>\n",
       "  <tbody>\n",
       "    <tr>\n",
       "      <th>P1902_1289</th>\n",
       "      <td>In_Vitro</td>\n",
       "      <td>1.0</td>\n",
       "      <td>E4</td>\n",
       "      <td>NaN</td>\n",
       "      <td>NaN</td>\n",
       "      <td>P1902</td>\n",
       "    </tr>\n",
       "    <tr>\n",
       "      <th>P1902_1290</th>\n",
       "      <td>In_Vitro</td>\n",
       "      <td>1.0</td>\n",
       "      <td>E4</td>\n",
       "      <td>NaN</td>\n",
       "      <td>NaN</td>\n",
       "      <td>P1902</td>\n",
       "    </tr>\n",
       "    <tr>\n",
       "      <th>P1902_1291</th>\n",
       "      <td>In_Vitro</td>\n",
       "      <td>1.0</td>\n",
       "      <td>E4</td>\n",
       "      <td>NaN</td>\n",
       "      <td>NaN</td>\n",
       "      <td>P1902</td>\n",
       "    </tr>\n",
       "    <tr>\n",
       "      <th>P1902_1292</th>\n",
       "      <td>In_Vitro</td>\n",
       "      <td>1.0</td>\n",
       "      <td>E4</td>\n",
       "      <td>NaN</td>\n",
       "      <td>NaN</td>\n",
       "      <td>P1902</td>\n",
       "    </tr>\n",
       "    <tr>\n",
       "      <th>P1902_1293</th>\n",
       "      <td>In_Vitro</td>\n",
       "      <td>1.0</td>\n",
       "      <td>A7</td>\n",
       "      <td>NaN</td>\n",
       "      <td>NaN</td>\n",
       "      <td>P1902</td>\n",
       "    </tr>\n",
       "  </tbody>\n",
       "</table>\n",
       "</div>"
      ],
      "text/plain": [
       "           Condition  Cell_Number Clone_ID  Day  In_Vivo_Clone_ID Project_ID\n",
       "P1902_1289  In_Vitro          1.0       E4  NaN               NaN      P1902\n",
       "P1902_1290  In_Vitro          1.0       E4  NaN               NaN      P1902\n",
       "P1902_1291  In_Vitro          1.0       E4  NaN               NaN      P1902\n",
       "P1902_1292  In_Vitro          1.0       E4  NaN               NaN      P1902\n",
       "P1902_1293  In_Vitro          1.0       A7  NaN               NaN      P1902"
      ]
     },
     "metadata": {},
     "output_type": "display_data"
    }
   ],
   "source": [
    "meta_vitro = get_meta('P1902', filename = 'Raw/metadata_marty_NFCORE_Sept2019.csv')\n",
    "cells_vitro = list(meta_vitro.index)"
   ]
  },
  {
   "cell_type": "code",
   "execution_count": 8,
   "id": "complimentary-wells",
   "metadata": {},
   "outputs": [
    {
     "name": "stdout",
     "output_type": "stream",
     "text": [
      "Discarding samples without Sample ID.  2345 samples remaining.\n",
      "667 samples found in experiment P1902.\n",
      "Discarding samples without Clone ID.  624 samples remaining.\n",
      "Discarding samples that are not in-vivo.  254 samples remaining\n",
      "Discarding bulks.  254 single cells remaining\n",
      "254 single cells found in experiment P1902\n",
      "78 Clones: 92, 93, 94, 410, 95, 0, 149, 361, 97, 98, 100, 102, 103, 104, 106, 107, 108, 109, 111, 280, 112, 115, 147, 118, 119, 121, 122, 124, 125, 126, 127, 129, 130, 131, 132, 134, 137, 140, 142, 143, 150, 160, 222, 224, 225, 226, 227, 228, 229, 189, 230, 272, 234, 235, 183, 240, 153, 241, 242, 243, 244, 247, 174, 248, 176, 255, 162, 275, 273, 304, 353, 15, 356, 329, 359, 364, 192, 321\n",
      "The first five rows of the dataframe are below\n"
     ]
    },
    {
     "data": {
      "text/html": [
       "<div>\n",
       "<style scoped>\n",
       "    .dataframe tbody tr th:only-of-type {\n",
       "        vertical-align: middle;\n",
       "    }\n",
       "\n",
       "    .dataframe tbody tr th {\n",
       "        vertical-align: top;\n",
       "    }\n",
       "\n",
       "    .dataframe thead th {\n",
       "        text-align: right;\n",
       "    }\n",
       "</style>\n",
       "<table border=\"1\" class=\"dataframe\">\n",
       "  <thead>\n",
       "    <tr style=\"text-align: right;\">\n",
       "      <th></th>\n",
       "      <th>Condition</th>\n",
       "      <th>Cell_Number</th>\n",
       "      <th>Clone_ID</th>\n",
       "      <th>Day</th>\n",
       "      <th>In_Vivo_Clone_ID</th>\n",
       "      <th>Project_ID</th>\n",
       "    </tr>\n",
       "  </thead>\n",
       "  <tbody>\n",
       "    <tr>\n",
       "      <th>P1902_1001</th>\n",
       "      <td>In_Vivo</td>\n",
       "      <td>1.0</td>\n",
       "      <td>92</td>\n",
       "      <td>136.0</td>\n",
       "      <td>NaN</td>\n",
       "      <td>P1902</td>\n",
       "    </tr>\n",
       "    <tr>\n",
       "      <th>P1902_1002</th>\n",
       "      <td>In_Vivo</td>\n",
       "      <td>1.0</td>\n",
       "      <td>93</td>\n",
       "      <td>136.0</td>\n",
       "      <td>NaN</td>\n",
       "      <td>P1902</td>\n",
       "    </tr>\n",
       "    <tr>\n",
       "      <th>P1902_1003</th>\n",
       "      <td>In_Vivo</td>\n",
       "      <td>1.0</td>\n",
       "      <td>94</td>\n",
       "      <td>136.0</td>\n",
       "      <td>NaN</td>\n",
       "      <td>P1902</td>\n",
       "    </tr>\n",
       "    <tr>\n",
       "      <th>P1902_1004</th>\n",
       "      <td>In_Vivo</td>\n",
       "      <td>1.0</td>\n",
       "      <td>410</td>\n",
       "      <td>136.0</td>\n",
       "      <td>NaN</td>\n",
       "      <td>P1902</td>\n",
       "    </tr>\n",
       "    <tr>\n",
       "      <th>P1902_1005</th>\n",
       "      <td>In_Vivo</td>\n",
       "      <td>1.0</td>\n",
       "      <td>95</td>\n",
       "      <td>136.0</td>\n",
       "      <td>NaN</td>\n",
       "      <td>P1902</td>\n",
       "    </tr>\n",
       "  </tbody>\n",
       "</table>\n",
       "</div>"
      ],
      "text/plain": [
       "           Condition  Cell_Number Clone_ID    Day  In_Vivo_Clone_ID Project_ID\n",
       "P1902_1001   In_Vivo          1.0       92  136.0               NaN      P1902\n",
       "P1902_1002   In_Vivo          1.0       93  136.0               NaN      P1902\n",
       "P1902_1003   In_Vivo          1.0       94  136.0               NaN      P1902\n",
       "P1902_1004   In_Vivo          1.0      410  136.0               NaN      P1902\n",
       "P1902_1005   In_Vivo          1.0       95  136.0               NaN      P1902"
      ]
     },
     "metadata": {},
     "output_type": "display_data"
    }
   ],
   "source": [
    "meta_vivo = get_meta('P1902', filename = 'Raw/metadata_marty_NFCORE_Sept2019.csv', invitro = False, invivo = True)\n",
    "cells_vivo = list(meta_vivo.index)"
   ]
  },
  {
   "cell_type": "code",
   "execution_count": 9,
   "id": "bored-adventure",
   "metadata": {},
   "outputs": [
    {
     "name": "stdout",
     "output_type": "stream",
     "text": [
      "Discarding samples without Sample ID.  2345 samples remaining.\n",
      "667 samples found in experiment P1902.\n",
      "Discarding samples without Clone ID.  624 samples remaining.\n",
      "Discarding samples that are not in-vitro.  370 samples remaining\n",
      "Discarding single cells.  9 bulks remaining\n",
      "9 bulks found in experiment P1902\n",
      "4 Clones: E4, A7, H2, B4\n",
      "The first five rows of the dataframe are below\n"
     ]
    },
    {
     "data": {
      "text/html": [
       "<div>\n",
       "<style scoped>\n",
       "    .dataframe tbody tr th:only-of-type {\n",
       "        vertical-align: middle;\n",
       "    }\n",
       "\n",
       "    .dataframe tbody tr th {\n",
       "        vertical-align: top;\n",
       "    }\n",
       "\n",
       "    .dataframe thead th {\n",
       "        text-align: right;\n",
       "    }\n",
       "</style>\n",
       "<table border=\"1\" class=\"dataframe\">\n",
       "  <thead>\n",
       "    <tr style=\"text-align: right;\">\n",
       "      <th></th>\n",
       "      <th>Condition</th>\n",
       "      <th>Cell_Number</th>\n",
       "      <th>Clone_ID</th>\n",
       "      <th>Day</th>\n",
       "      <th>In_Vivo_Clone_ID</th>\n",
       "      <th>Project_ID</th>\n",
       "    </tr>\n",
       "  </thead>\n",
       "  <tbody>\n",
       "    <tr>\n",
       "      <th>P1902_1380</th>\n",
       "      <td>In_Vitro</td>\n",
       "      <td>50.0</td>\n",
       "      <td>E4</td>\n",
       "      <td>NaN</td>\n",
       "      <td>NaN</td>\n",
       "      <td>P1902</td>\n",
       "    </tr>\n",
       "    <tr>\n",
       "      <th>P1902_1382</th>\n",
       "      <td>In_Vitro</td>\n",
       "      <td>50.0</td>\n",
       "      <td>A7</td>\n",
       "      <td>NaN</td>\n",
       "      <td>NaN</td>\n",
       "      <td>P1902</td>\n",
       "    </tr>\n",
       "    <tr>\n",
       "      <th>P1902_1384</th>\n",
       "      <td>In_Vitro</td>\n",
       "      <td>50.0</td>\n",
       "      <td>A7</td>\n",
       "      <td>NaN</td>\n",
       "      <td>NaN</td>\n",
       "      <td>P1902</td>\n",
       "    </tr>\n",
       "    <tr>\n",
       "      <th>P1902_1570</th>\n",
       "      <td>In_Vitro</td>\n",
       "      <td>50.0</td>\n",
       "      <td>H2</td>\n",
       "      <td>NaN</td>\n",
       "      <td>NaN</td>\n",
       "      <td>P1902</td>\n",
       "    </tr>\n",
       "    <tr>\n",
       "      <th>P1902_1571</th>\n",
       "      <td>In_Vitro</td>\n",
       "      <td>50.0</td>\n",
       "      <td>H2</td>\n",
       "      <td>NaN</td>\n",
       "      <td>NaN</td>\n",
       "      <td>P1902</td>\n",
       "    </tr>\n",
       "  </tbody>\n",
       "</table>\n",
       "</div>"
      ],
      "text/plain": [
       "           Condition  Cell_Number Clone_ID  Day  In_Vivo_Clone_ID Project_ID\n",
       "P1902_1380  In_Vitro         50.0       E4  NaN               NaN      P1902\n",
       "P1902_1382  In_Vitro         50.0       A7  NaN               NaN      P1902\n",
       "P1902_1384  In_Vitro         50.0       A7  NaN               NaN      P1902\n",
       "P1902_1570  In_Vitro         50.0       H2  NaN               NaN      P1902\n",
       "P1902_1571  In_Vitro         50.0       H2  NaN               NaN      P1902"
      ]
     },
     "metadata": {},
     "output_type": "display_data"
    }
   ],
   "source": [
    "meta_bulks = get_meta('P1902', filename = 'Raw/metadata_marty_NFCORE_Sept2019.csv', bulks=True)\n",
    "bulks = list(meta_bulks.index)"
   ]
  },
  {
   "cell_type": "markdown",
   "id": "former-endorsement",
   "metadata": {},
   "source": [
    "## Getting expression matrices"
   ]
  },
  {
   "cell_type": "code",
   "execution_count": 10,
   "id": "engaging-regular",
   "metadata": {},
   "outputs": [],
   "source": [
    "def get_counts(filename, gdf):\n",
    "    df = pd.read_csv(filename, sep='\\t',\n",
    "                     index_col=0, header=0, low_memory=False)\n",
    "    df = df[df.columns[1:]]\n",
    "    cols = list(df.columns)\n",
    "    cols = ['_'.join(col.split('_')[3:5]) for col in cols]\n",
    "    df.columns = cols\n",
    "    return df"
   ]
  },
  {
   "cell_type": "code",
   "execution_count": 11,
   "id": "clear-colors",
   "metadata": {},
   "outputs": [
    {
     "data": {
      "text/html": [
       "<div>\n",
       "<style scoped>\n",
       "    .dataframe tbody tr th:only-of-type {\n",
       "        vertical-align: middle;\n",
       "    }\n",
       "\n",
       "    .dataframe tbody tr th {\n",
       "        vertical-align: top;\n",
       "    }\n",
       "\n",
       "    .dataframe thead th {\n",
       "        text-align: right;\n",
       "    }\n",
       "</style>\n",
       "<table border=\"1\" class=\"dataframe\">\n",
       "  <thead>\n",
       "    <tr style=\"text-align: right;\">\n",
       "      <th></th>\n",
       "      <th>P1902_1289</th>\n",
       "      <th>P1902_1290</th>\n",
       "      <th>P1902_1291</th>\n",
       "      <th>P1902_1292</th>\n",
       "      <th>P1902_1293</th>\n",
       "      <th>P1902_1294</th>\n",
       "      <th>P1902_1295</th>\n",
       "      <th>P1902_1296</th>\n",
       "      <th>P1902_1297</th>\n",
       "      <th>P1902_1298</th>\n",
       "      <th>...</th>\n",
       "      <th>P1902_1660</th>\n",
       "      <th>P1902_1661</th>\n",
       "      <th>P1902_1662</th>\n",
       "      <th>P1902_1663</th>\n",
       "      <th>P1902_1664</th>\n",
       "      <th>P1902_1665</th>\n",
       "      <th>P1902_1669</th>\n",
       "      <th>P1902_1670</th>\n",
       "      <th>P1902_1671</th>\n",
       "      <th>P1902_1672</th>\n",
       "    </tr>\n",
       "    <tr>\n",
       "      <th>Geneid</th>\n",
       "      <th></th>\n",
       "      <th></th>\n",
       "      <th></th>\n",
       "      <th></th>\n",
       "      <th></th>\n",
       "      <th></th>\n",
       "      <th></th>\n",
       "      <th></th>\n",
       "      <th></th>\n",
       "      <th></th>\n",
       "      <th></th>\n",
       "      <th></th>\n",
       "      <th></th>\n",
       "      <th></th>\n",
       "      <th></th>\n",
       "      <th></th>\n",
       "      <th></th>\n",
       "      <th></th>\n",
       "      <th></th>\n",
       "      <th></th>\n",
       "      <th></th>\n",
       "    </tr>\n",
       "  </thead>\n",
       "  <tbody>\n",
       "    <tr>\n",
       "      <th>ENSG00000223972</th>\n",
       "      <td>0</td>\n",
       "      <td>0</td>\n",
       "      <td>0</td>\n",
       "      <td>0</td>\n",
       "      <td>0</td>\n",
       "      <td>0</td>\n",
       "      <td>0</td>\n",
       "      <td>0</td>\n",
       "      <td>0</td>\n",
       "      <td>0</td>\n",
       "      <td>...</td>\n",
       "      <td>0</td>\n",
       "      <td>0</td>\n",
       "      <td>0</td>\n",
       "      <td>0</td>\n",
       "      <td>0</td>\n",
       "      <td>0</td>\n",
       "      <td>0</td>\n",
       "      <td>0</td>\n",
       "      <td>0</td>\n",
       "      <td>0</td>\n",
       "    </tr>\n",
       "    <tr>\n",
       "      <th>ENSG00000227232</th>\n",
       "      <td>20</td>\n",
       "      <td>23</td>\n",
       "      <td>0</td>\n",
       "      <td>0</td>\n",
       "      <td>0</td>\n",
       "      <td>0</td>\n",
       "      <td>0</td>\n",
       "      <td>48</td>\n",
       "      <td>0</td>\n",
       "      <td>0</td>\n",
       "      <td>...</td>\n",
       "      <td>17</td>\n",
       "      <td>0</td>\n",
       "      <td>7</td>\n",
       "      <td>0</td>\n",
       "      <td>15</td>\n",
       "      <td>71</td>\n",
       "      <td>0</td>\n",
       "      <td>0</td>\n",
       "      <td>0</td>\n",
       "      <td>0</td>\n",
       "    </tr>\n",
       "    <tr>\n",
       "      <th>ENSG00000243485</th>\n",
       "      <td>0</td>\n",
       "      <td>0</td>\n",
       "      <td>0</td>\n",
       "      <td>0</td>\n",
       "      <td>0</td>\n",
       "      <td>0</td>\n",
       "      <td>0</td>\n",
       "      <td>0</td>\n",
       "      <td>0</td>\n",
       "      <td>0</td>\n",
       "      <td>...</td>\n",
       "      <td>0</td>\n",
       "      <td>0</td>\n",
       "      <td>0</td>\n",
       "      <td>0</td>\n",
       "      <td>0</td>\n",
       "      <td>0</td>\n",
       "      <td>0</td>\n",
       "      <td>0</td>\n",
       "      <td>0</td>\n",
       "      <td>0</td>\n",
       "    </tr>\n",
       "    <tr>\n",
       "      <th>ENSG00000237613</th>\n",
       "      <td>0</td>\n",
       "      <td>0</td>\n",
       "      <td>0</td>\n",
       "      <td>0</td>\n",
       "      <td>0</td>\n",
       "      <td>0</td>\n",
       "      <td>0</td>\n",
       "      <td>0</td>\n",
       "      <td>0</td>\n",
       "      <td>0</td>\n",
       "      <td>...</td>\n",
       "      <td>0</td>\n",
       "      <td>0</td>\n",
       "      <td>0</td>\n",
       "      <td>0</td>\n",
       "      <td>0</td>\n",
       "      <td>0</td>\n",
       "      <td>0</td>\n",
       "      <td>0</td>\n",
       "      <td>0</td>\n",
       "      <td>0</td>\n",
       "    </tr>\n",
       "    <tr>\n",
       "      <th>ENSG00000268020</th>\n",
       "      <td>0</td>\n",
       "      <td>0</td>\n",
       "      <td>0</td>\n",
       "      <td>0</td>\n",
       "      <td>0</td>\n",
       "      <td>0</td>\n",
       "      <td>0</td>\n",
       "      <td>0</td>\n",
       "      <td>0</td>\n",
       "      <td>0</td>\n",
       "      <td>...</td>\n",
       "      <td>0</td>\n",
       "      <td>0</td>\n",
       "      <td>0</td>\n",
       "      <td>0</td>\n",
       "      <td>0</td>\n",
       "      <td>0</td>\n",
       "      <td>0</td>\n",
       "      <td>0</td>\n",
       "      <td>0</td>\n",
       "      <td>0</td>\n",
       "    </tr>\n",
       "  </tbody>\n",
       "</table>\n",
       "<p>5 rows × 361 columns</p>\n",
       "</div>"
      ],
      "text/plain": [
       "                 P1902_1289  P1902_1290  P1902_1291  P1902_1292  P1902_1293  \\\n",
       "Geneid                                                                        \n",
       "ENSG00000223972           0           0           0           0           0   \n",
       "ENSG00000227232          20          23           0           0           0   \n",
       "ENSG00000243485           0           0           0           0           0   \n",
       "ENSG00000237613           0           0           0           0           0   \n",
       "ENSG00000268020           0           0           0           0           0   \n",
       "\n",
       "                 P1902_1294  P1902_1295  P1902_1296  P1902_1297  P1902_1298  \\\n",
       "Geneid                                                                        \n",
       "ENSG00000223972           0           0           0           0           0   \n",
       "ENSG00000227232           0           0          48           0           0   \n",
       "ENSG00000243485           0           0           0           0           0   \n",
       "ENSG00000237613           0           0           0           0           0   \n",
       "ENSG00000268020           0           0           0           0           0   \n",
       "\n",
       "                 ...  P1902_1660  P1902_1661  P1902_1662  P1902_1663  \\\n",
       "Geneid           ...                                                   \n",
       "ENSG00000223972  ...           0           0           0           0   \n",
       "ENSG00000227232  ...          17           0           7           0   \n",
       "ENSG00000243485  ...           0           0           0           0   \n",
       "ENSG00000237613  ...           0           0           0           0   \n",
       "ENSG00000268020  ...           0           0           0           0   \n",
       "\n",
       "                 P1902_1664  P1902_1665  P1902_1669  P1902_1670  P1902_1671  \\\n",
       "Geneid                                                                        \n",
       "ENSG00000223972           0           0           0           0           0   \n",
       "ENSG00000227232          15          71           0           0           0   \n",
       "ENSG00000243485           0           0           0           0           0   \n",
       "ENSG00000237613           0           0           0           0           0   \n",
       "ENSG00000268020           0           0           0           0           0   \n",
       "\n",
       "                 P1902_1672  \n",
       "Geneid                       \n",
       "ENSG00000223972           0  \n",
       "ENSG00000227232           0  \n",
       "ENSG00000243485           0  \n",
       "ENSG00000237613           0  \n",
       "ENSG00000268020           0  \n",
       "\n",
       "[5 rows x 361 columns]"
      ]
     },
     "execution_count": 11,
     "metadata": {},
     "output_type": "execute_result"
    }
   ],
   "source": [
    "foldername = 'Raw/NFCore_Joanna_Mapped_Sept2019/'\n",
    "counts_all = get_counts(foldername+'P1902_merged_gene_counts.tsv', gene_df)\n",
    "counts_bulks = counts_all[bulks]\n",
    "counts_vitro = counts_all[cells_vitro]\n",
    "counts_vivo = counts_all[cells_vivo]\n",
    "counts_vitro.head()"
   ]
  },
  {
   "cell_type": "markdown",
   "id": "civic-brown",
   "metadata": {},
   "source": [
    "## Moving into Scanpy\n",
    "\n",
    "We move the expression matrices, with information about genes and cells, into Scanpy's AnnData objects."
   ]
  },
  {
   "cell_type": "code",
   "execution_count": 12,
   "id": "intimate-maryland",
   "metadata": {},
   "outputs": [],
   "source": [
    "def moveto_scanpy(counts, cell_meta, gene_meta, plain_name = True):\n",
    "    adata = sc.AnnData(counts.T)\n",
    "    for gene_property in gene_meta.columns:\n",
    "        adata.var[gene_property] = gene_meta[gene_property]\n",
    "    for cell_property in cell_meta.columns:\n",
    "        adata.obs[cell_property] = cell_meta[cell_property]\n",
    "    if plain_name:\n",
    "        adata.var.index = adata.var['gene_name'] # Reindex by gene name\n",
    "        adata.var_names_make_unique() # Use common gene names, but uniquify them.\n",
    "    \n",
    "    return adata"
   ]
  },
  {
   "cell_type": "code",
   "execution_count": 13,
   "id": "specified-tyler",
   "metadata": {},
   "outputs": [
    {
     "name": "stderr",
     "output_type": "stream",
     "text": [
      "/opt/anaconda3/envs/clonalomics/lib/python3.8/site-packages/anndata/utils.py:111: UserWarning: Suffix used (-[0-9]+) to deduplicate index values may make index values difficult to interpret. There values with a similar suffixes in the index. Consider using a different delimiter by passing `join={delimiter}`Example key collisions generated by the make_index_unique algorithm: ['SNORD116-1', 'SNORD116-2', 'SNORD116-3', 'SNORD113-1', 'SNORD113-2']\n",
      "  warnings.warn(\n"
     ]
    }
   ],
   "source": [
    "adata = {}\n",
    "adata['invitro'] = moveto_scanpy(counts_vitro, meta_vitro, gene_df)\n",
    "adata['invivo'] = moveto_scanpy(counts_vivo, meta_vivo, gene_df)\n",
    "adata['bulks'] = moveto_scanpy(counts_bulks, meta_bulks, gene_df)\n",
    "\n",
    "datasets = ['invitro','invivo','bulks']"
   ]
  },
  {
   "cell_type": "markdown",
   "id": "alive-ranch",
   "metadata": {},
   "source": [
    "# Normalization and filtering"
   ]
  },
  {
   "cell_type": "markdown",
   "id": "9e14d119",
   "metadata": {},
   "source": [
    "Now we add annotations for highly variable genes."
   ]
  },
  {
   "cell_type": "code",
   "execution_count": 14,
   "id": "ba703384",
   "metadata": {},
   "outputs": [
    {
     "name": "stdout",
     "output_type": "stream",
     "text": [
      "Identifying highly variable genes in invitro\n"
     ]
    },
    {
     "name": "stderr",
     "output_type": "stream",
     "text": [
      "/opt/anaconda3/envs/clonalomics/lib/python3.8/site-packages/scanpy/preprocessing/_highly_variable_genes.py:144: FutureWarning: Slicing a positional slice with .loc is not supported, and will raise TypeError in a future version.  Use .loc with labels or .iloc with positions instead.\n",
      "  df.loc[: int(n_top_genes), 'highly_variable'] = True\n"
     ]
    },
    {
     "name": "stdout",
     "output_type": "stream",
     "text": [
      "Identifying highly variable genes in invivo\n",
      "Identifying highly variable genes in bulks\n"
     ]
    }
   ],
   "source": [
    "for ds in datasets:\n",
    "    print('Identifying highly variable genes in {}'.format(ds))\n",
    "    sc.pp.highly_variable_genes(adata[ds], n_top_genes=7500, flavor='seurat_v3')"
   ]
  },
  {
   "cell_type": "markdown",
   "id": "necessary-coordinator",
   "metadata": {},
   "source": [
    "Now we carry out TPM normalization. "
   ]
  },
  {
   "cell_type": "code",
   "execution_count": 15,
   "id": "forward-productivity",
   "metadata": {},
   "outputs": [],
   "source": [
    "def TPM_norm(ad, target_sum=1e6):\n",
    "    ad_out = ad.copy()\n",
    "    \n",
    "    df = ad_out.to_df().T\n",
    "    \n",
    "    # Step 1:  divide each entry by the transcript length of the gene, in kilobases.\n",
    "    rdf = 1 / ad_out.var['transcript_length']\n",
    "    df = df.mul(1000*rdf,axis=0) # Multiply by 1000 to convert transcript length to kilobases.\n",
    "    \n",
    "    # Transpose for what follows.\n",
    "    df = df.T\n",
    "    \n",
    "    # Step 2:  divide each entry by cell-total, then multiply by target_sum.\n",
    "    rdf = 1/df.sum(axis=1)\n",
    "    df = df.mul(rdf, axis=0)\n",
    "    df = df * target_sum \n",
    "    \n",
    "    # Double-check TPM normalization has succeeded.\n",
    "    print('The TPM normalization has failed for {} samples.'.format(((df.sum(axis=1) - target_sum) > 0.1).sum()))\n",
    "    \n",
    "    # Return new dataframe.\n",
    "    ad_out.X = df\n",
    "    return ad_out"
   ]
  },
  {
   "cell_type": "code",
   "execution_count": 16,
   "id": "explicit-bones",
   "metadata": {},
   "outputs": [
    {
     "name": "stdout",
     "output_type": "stream",
     "text": [
      "The TPM normalization has failed for 0 samples.\n",
      "The TPM normalization has failed for 0 samples.\n",
      "The TPM normalization has failed for 0 samples.\n"
     ]
    }
   ],
   "source": [
    "for ds in datasets:\n",
    "    adata[ds] = TPM_norm(adata[ds]) # TPM normalize."
   ]
  },
  {
   "cell_type": "markdown",
   "id": "b85f1ad7",
   "metadata": {},
   "source": [
    "We keep genes if they are expressed at TPM > 10 for more than 5% of cells."
   ]
  },
  {
   "cell_type": "code",
   "execution_count": 17,
   "id": "17f0c70e",
   "metadata": {},
   "outputs": [
    {
     "name": "stdout",
     "output_type": "stream",
     "text": [
      "Dataset invitro has 63677 genes before and 7504 genes after filtering.\n",
      "Dataset invivo has 63677 genes before and 7116 genes after filtering.\n",
      "Dataset bulks has 63677 genes before and 9172 genes after filtering.\n"
     ]
    }
   ],
   "source": [
    "for ds in datasets:\n",
    "    genes_before = adata[ds].n_vars\n",
    "    gg = ((adata[ds].to_df() > 10).sum() > 0.05*adata[ds].n_obs)\n",
    "    good_genes = gg[gg].index\n",
    "    adata[ds] = adata[ds][:,good_genes]\n",
    "    genes_after = adata[ds].n_vars\n",
    "    print('Dataset {} has {} genes before and {} genes after filtering.'.format(ds,genes_before,genes_after))"
   ]
  },
  {
   "cell_type": "markdown",
   "id": "extra-party",
   "metadata": {},
   "source": [
    "Pseudo-log normalization is next."
   ]
  },
  {
   "cell_type": "code",
   "execution_count": 18,
   "id": "metallic-static",
   "metadata": {},
   "outputs": [
    {
     "name": "stderr",
     "output_type": "stream",
     "text": [
      "/opt/anaconda3/envs/clonalomics/lib/python3.8/site-packages/scanpy/preprocessing/_simple.py:343: UserWarning: Revieved a view of an AnnData. Making a copy.\n",
      "  view_to_actual(adata)\n"
     ]
    }
   ],
   "source": [
    "for ds in datasets:\n",
    "    sc.pp.log1p(adata[ds]) #pseudo-log normalize."
   ]
  },
  {
   "cell_type": "code",
   "execution_count": 19,
   "id": "correct-trash",
   "metadata": {},
   "outputs": [
    {
     "name": "stdout",
     "output_type": "stream",
     "text": [
      "Summary of AnnData object for invitro (shape = #samples x #genes)\n",
      "AnnData object with n_obs × n_vars = 361 × 7504\n",
      "    obs: 'Condition', 'Cell_Number', 'Clone_ID', 'Day', 'In_Vivo_Clone_ID', 'Project_ID'\n",
      "    var: 'transcript_length', 'GC_content', 'gene_name', 'highly_variable', 'highly_variable_rank', 'means', 'variances', 'variances_norm'\n",
      "    uns: 'hvg', 'log1p'\n",
      "================================================================================\n",
      "Summary of AnnData object for invivo (shape = #samples x #genes)\n",
      "AnnData object with n_obs × n_vars = 254 × 7116\n",
      "    obs: 'Condition', 'Cell_Number', 'Clone_ID', 'Day', 'In_Vivo_Clone_ID', 'Project_ID'\n",
      "    var: 'transcript_length', 'GC_content', 'gene_name', 'highly_variable', 'highly_variable_rank', 'means', 'variances', 'variances_norm'\n",
      "    uns: 'hvg', 'log1p'\n",
      "================================================================================\n",
      "Summary of AnnData object for bulks (shape = #samples x #genes)\n",
      "AnnData object with n_obs × n_vars = 9 × 9172\n",
      "    obs: 'Condition', 'Cell_Number', 'Clone_ID', 'Day', 'In_Vivo_Clone_ID', 'Project_ID'\n",
      "    var: 'transcript_length', 'GC_content', 'gene_name', 'highly_variable', 'highly_variable_rank', 'means', 'variances', 'variances_norm'\n",
      "    uns: 'hvg', 'log1p'\n",
      "================================================================================\n"
     ]
    }
   ],
   "source": [
    "for ds in datasets:\n",
    "    print('Summary of AnnData object for {} (shape = #samples x #genes)'.format(ds))\n",
    "    print(adata[ds])\n",
    "    hrule()"
   ]
  },
  {
   "cell_type": "markdown",
   "id": "convenient-hunger",
   "metadata": {},
   "source": [
    "## Dropping T-cell Receptor Genes\n",
    "\n",
    "We drop all T-cell receptor genes, from a given csv file."
   ]
  },
  {
   "cell_type": "code",
   "execution_count": 24,
   "id": "generic-forth",
   "metadata": {},
   "outputs": [],
   "source": [
    "def drop_TRs(ad, filename='TR_gene_data.csv'):\n",
    "    ad_out = ad\n",
    "    TR_gene_df = pd.read_csv(filename, index_col=0)\n",
    "    TR_genes = TR_gene_df['gene_name'].values\n",
    "    bad_genes = [gene for gene in ad_out.var_names if gene in TR_genes]\n",
    "    print('{} genes removed.'.format(len(bad_genes)))\n",
    "    keep_genes = [gene for gene in ad_out.var_names if not gene in bad_genes]\n",
    "    ad_out = ad_out[:, keep_genes]\n",
    "    return ad_out"
   ]
  },
  {
   "cell_type": "code",
   "execution_count": 25,
   "id": "horizontal-delivery",
   "metadata": {},
   "outputs": [
    {
     "name": "stdout",
     "output_type": "stream",
     "text": [
      "64 genes removed.\n",
      "64 T-cell receptor genes removed from adata[invitro]\n",
      "================================================================================\n",
      "61 genes removed.\n",
      "61 T-cell receptor genes removed from adata[invivo]\n",
      "================================================================================\n",
      "88 genes removed.\n",
      "88 T-cell receptor genes removed from adata[bulks]\n",
      "================================================================================\n"
     ]
    }
   ],
   "source": [
    "for ds in datasets:\n",
    "    before_genes = len(adata[ds].var_names)\n",
    "    adata[ds] = drop_TRs(adata[ds])\n",
    "    after_genes = len(adata[ds].var_names)\n",
    "    print('{} T-cell receptor genes removed from adata[{}]'.format(before_genes - after_genes, ds))\n",
    "    hrule()"
   ]
  },
  {
   "cell_type": "markdown",
   "id": "stone-mailman",
   "metadata": {},
   "source": [
    "# Quality control"
   ]
  },
  {
   "cell_type": "code",
   "execution_count": 26,
   "id": "tired-guatemala",
   "metadata": {},
   "outputs": [
    {
     "name": "stderr",
     "output_type": "stream",
     "text": [
      "/opt/anaconda3/envs/clonalomics/lib/python3.8/site-packages/scanpy/preprocessing/_normalization.py:138: UserWarning: Revieved a view of an AnnData. Making a copy.\n",
      "  view_to_actual(adata)\n",
      "/opt/anaconda3/envs/clonalomics/lib/python3.8/site-packages/scanpy/preprocessing/_normalization.py:138: UserWarning: Revieved a view of an AnnData. Making a copy.\n",
      "  view_to_actual(adata)\n",
      "/opt/anaconda3/envs/clonalomics/lib/python3.8/site-packages/scanpy/preprocessing/_normalization.py:138: UserWarning: Revieved a view of an AnnData. Making a copy.\n",
      "  view_to_actual(adata)\n"
     ]
    },
    {
     "data": {
      "image/png": "[encoded data removed]",
      "text/plain": [
       "<Figure size 1296x360 with 3 Axes>"
      ]
     },
     "metadata": {
      "needs_background": "light"
     },
     "output_type": "display_data"
    }
   ],
   "source": [
    "fig,ax = plt.subplots(1,len(datasets), figsize=(len(datasets)*6,5))\n",
    "for j,ds in enumerate(datasets):\n",
    "    sc.pl.highest_expr_genes(adata[ds], n_top=10, ax=ax[j], log=True, show=False)\n",
    "    ax[j].set_title('Data from {}'.format(ds))\n",
    "    if j > 0:\n",
    "        ax[j].set_ylabel('')\n",
    "plt.suptitle('Highest expressed genes, by % of total count', y=1.05)\n",
    "plt.show()"
   ]
  },
  {
   "cell_type": "code",
   "execution_count": 27,
   "id": "smart-limit",
   "metadata": {},
   "outputs": [],
   "source": [
    "for ds in datasets:\n",
    "    adata[ds].var['mt'] = adata[ds].var_names.str.startswith('MT-')  # annotate the group of mitochondrial genes as 'mt'\n",
    "    sc.pp.calculate_qc_metrics(adata[ds], qc_vars=['mt'], percent_top=None, inplace=True)"
   ]
  },
  {
   "cell_type": "code",
   "execution_count": 28,
   "id": "peripheral-consortium",
   "metadata": {},
   "outputs": [
    {
     "data": {
      "image/png": "[encoded data removed]",
      "text/plain": [
       "<Figure size 1296x360 with 3 Axes>"
      ]
     },
     "metadata": {
      "needs_background": "light"
     },
     "output_type": "display_data"
    }
   ],
   "source": [
    "fig,ax = plt.subplots(1,len(datasets), figsize=(len(datasets)*6,5))\n",
    "min_counts = {}\n",
    "max_counts = {}\n",
    "# max_genes = {}\n",
    "for j,ds in enumerate(datasets):\n",
    "    sns.scatterplot(x='n_genes_by_counts', y='total_counts', \n",
    "                    data=adata[ds].obs,  ax=ax[j])\n",
    "    ax[j].set_title('Quality control for {}'.format(ds))\n",
    "    if ds == 'invitro':\n",
    "        min_counts[ds] = 5000 # Chosen after plotting!\n",
    "        max_counts[ds] = 15500  # Chosen after plotting!\n",
    "        # max_genes[ds] = 3200 # Chosen after plotting\n",
    "        ax[j].axhline(min_counts[ds], color='red')\n",
    "        ax[j].axhline(max_counts[ds], color='red')\n",
    "        # ax[j].axvline(max_genes[ds], color='red')\n",
    "    elif ds == 'invivo':\n",
    "        min_counts[ds] = 6500  # Chosen after plotting!\n",
    "        max_counts[ds] = 10300  # Chosen after plotting!\n",
    "        # max_genes[ds] = 2500\n",
    "        ax[j].axhline(min_counts[ds], color='red')\n",
    "        ax[j].axhline(max_counts[ds], color='red')\n",
    "        # ax[j].axvline(max_genes[ds], color='red')\n",
    "    if j > 0:\n",
    "        ax[j].set_ylabel('')\n",
    "plt.show()"
   ]
  },
  {
   "cell_type": "markdown",
   "id": "jewish-february",
   "metadata": {},
   "source": [
    "We use the above plots to filter out cells based on min/max total counts.  We delete cells above and below the red lines."
   ]
  },
  {
   "cell_type": "code",
   "execution_count": 29,
   "id": "technical-hypothesis",
   "metadata": {},
   "outputs": [],
   "source": [
    "for ds in ['invitro','invivo']:\n",
    "    sc.pp.filter_cells(adata[ds], min_counts=min_counts[ds])\n",
    "    sc.pp.filter_cells(adata[ds], max_counts=max_counts[ds])\n",
    "    # sc.pp.filter_cells(adata[ds], max_genes=max_genes[ds])\n"
   ]
  },
  {
   "cell_type": "code",
   "execution_count": 30,
   "id": "sought-shoot",
   "metadata": {},
   "outputs": [
    {
     "name": "stdout",
     "output_type": "stream",
     "text": [
      "AnnData object with n_obs × n_vars = 352 × 7440\n",
      "    obs: 'Condition', 'Cell_Number', 'Clone_ID', 'Day', 'In_Vivo_Clone_ID', 'Project_ID', 'n_genes_by_counts', 'log1p_n_genes_by_counts', 'total_counts', 'log1p_total_counts', 'total_counts_mt', 'log1p_total_counts_mt', 'pct_counts_mt', 'n_counts'\n",
      "    var: 'transcript_length', 'GC_content', 'gene_name', 'highly_variable', 'highly_variable_rank', 'means', 'variances', 'variances_norm', 'mt', 'n_cells_by_counts', 'mean_counts', 'log1p_mean_counts', 'pct_dropout_by_counts', 'total_counts', 'log1p_total_counts'\n",
      "    uns: 'hvg', 'log1p'\n",
      "================================================================================\n",
      "AnnData object with n_obs × n_vars = 249 × 7055\n",
      "    obs: 'Condition', 'Cell_Number', 'Clone_ID', 'Day', 'In_Vivo_Clone_ID', 'Project_ID', 'n_genes_by_counts', 'log1p_n_genes_by_counts', 'total_counts', 'log1p_total_counts', 'total_counts_mt', 'log1p_total_counts_mt', 'pct_counts_mt', 'n_counts'\n",
      "    var: 'transcript_length', 'GC_content', 'gene_name', 'highly_variable', 'highly_variable_rank', 'means', 'variances', 'variances_norm', 'mt', 'n_cells_by_counts', 'mean_counts', 'log1p_mean_counts', 'pct_dropout_by_counts', 'total_counts', 'log1p_total_counts'\n",
      "    uns: 'hvg', 'log1p'\n",
      "================================================================================\n",
      "AnnData object with n_obs × n_vars = 9 × 9084\n",
      "    obs: 'Condition', 'Cell_Number', 'Clone_ID', 'Day', 'In_Vivo_Clone_ID', 'Project_ID', 'n_genes_by_counts', 'log1p_n_genes_by_counts', 'total_counts', 'log1p_total_counts', 'total_counts_mt', 'log1p_total_counts_mt', 'pct_counts_mt'\n",
      "    var: 'transcript_length', 'GC_content', 'gene_name', 'highly_variable', 'highly_variable_rank', 'means', 'variances', 'variances_norm', 'mt', 'n_cells_by_counts', 'mean_counts', 'log1p_mean_counts', 'pct_dropout_by_counts', 'total_counts', 'log1p_total_counts'\n",
      "    uns: 'hvg', 'log1p'\n",
      "================================================================================\n"
     ]
    }
   ],
   "source": [
    "for ds in datasets:\n",
    "    print(adata[ds])\n",
    "    hrule()"
   ]
  },
  {
   "cell_type": "markdown",
   "id": "80db2233",
   "metadata": {},
   "source": [
    "# Gene metrics\n",
    "\n",
    "Here we annotate each gene with metrics which will be used later.  \n",
    "\n",
    "## Highly variable genes\n",
    "The first is a ranking for highly variable genes.  Before normalization, we used Scanpy's [highly variable genes](https://scanpy.readthedocs.io/en/stable/api/scanpy.pp.highly_variable_genes.html) function, which annotates the highly variable genes using the methods of Seurat v3. Here we examine the 10 most variable genes."
   ]
  },
  {
   "cell_type": "code",
   "execution_count": 31,
   "id": "3945e67e",
   "metadata": {},
   "outputs": [
    {
     "data": {
      "text/plain": [
       "gene_name\n",
       "HIST1H4C     1.0\n",
       "CSF2         3.0\n",
       "EGR1         5.0\n",
       "RRM2         6.0\n",
       "LRRC28       8.0\n",
       "IFNG         9.0\n",
       "STMN1       10.0\n",
       "CCL4L1      11.0\n",
       "CCL4        13.0\n",
       "TNFRSF9     14.0\n",
       "Name: highly_variable_rank, dtype: float32"
      ]
     },
     "execution_count": 31,
     "metadata": {},
     "output_type": "execute_result"
    }
   ],
   "source": [
    "adata['invitro'].var.highly_variable_rank.sort_values()[:10]"
   ]
  },
  {
   "cell_type": "markdown",
   "id": "d6e7a798",
   "metadata": {},
   "source": [
    "## Always on genes\n",
    "\n",
    "Some genes are \"always on\" -- almost every cell expressed the gene above some minimum threshold.  We add a statistic for the percentage of cells in which the gene is expressed above a threshold of 10 (TPM-normalized count)."
   ]
  },
  {
   "cell_type": "code",
   "execution_count": 32,
   "id": "14088632",
   "metadata": {},
   "outputs": [],
   "source": [
    "def on_ratio(ad, threshold=10):\n",
    "    ad_out = ad.copy()\n",
    "    EM = ad_out.to_df() \n",
    "    ad_out.var['on_ratio'] = (EM > np.log1p(10)).sum() / len(EM)\n",
    "    return ad_out"
   ]
  },
  {
   "cell_type": "code",
   "execution_count": 33,
   "id": "da64b0df",
   "metadata": {},
   "outputs": [],
   "source": [
    "for ds in datasets:\n",
    "    adata[ds] = on_ratio(adata[ds])"
   ]
  },
  {
   "cell_type": "markdown",
   "id": "44efacf5",
   "metadata": {},
   "source": [
    "## Clonality statistics\n",
    "\n",
    "We annotate genes based on statistics for clonality:  ANOVA F, Kruskal-Wallis, and chi^2 (after binarization)."
   ]
  },
  {
   "cell_type": "code",
   "execution_count": 34,
   "id": "6dc897b4",
   "metadata": {},
   "outputs": [],
   "source": [
    "def group_stats(ad, groupby='Clone_ID'):\n",
    "    X = ad.to_df()\n",
    "    y = ad.obs[groupby]\n",
    "    F_pvals = ss.f_oneway(*[X[y == k] for k in np.unique(y)])[1]\n",
    "    print('ANOVA F complete.  Kruskal-Wallis may take a minute now.')\n",
    "    K_pvals = X.apply(lambda col : ss.kruskal(*[col[y == k] for k in np.unique(y)])[1])\n",
    "    chi2_pvals = chi2(X > np.log1p(10),y)[1]\n",
    "    ad_out = ad.copy()\n",
    "    ad_out.var['F_pval'] = F_pvals\n",
    "    ad_out.var['K_pval'] = K_pvals\n",
    "    ad_out.var['chi2_pval'] = chi2_pvals\n",
    "    return ad_out"
   ]
  },
  {
   "cell_type": "code",
   "execution_count": 35,
   "id": "7a41c85d",
   "metadata": {},
   "outputs": [
    {
     "name": "stdout",
     "output_type": "stream",
     "text": [
      "ANOVA F complete.  Kruskal-Wallis may take a minute now.\n",
      "ANOVA F complete.  Kruskal-Wallis may take a minute now.\n"
     ]
    }
   ],
   "source": [
    "for ds in ['invitro','invivo']:\n",
    "    adata[ds] = group_stats(adata[ds])"
   ]
  },
  {
   "cell_type": "code",
   "execution_count": 36,
   "id": "9f6d4c59",
   "metadata": {
    "scrolled": false
   },
   "outputs": [
    {
     "data": {
      "image/png": "[encoded data removed]",
      "text/plain": [
       "<Figure size 432x432 with 1 Axes>"
      ]
     },
     "metadata": {
      "needs_background": "light"
     },
     "output_type": "display_data"
    }
   ],
   "source": [
    "fig,ax = plt.subplots(1,1,figsize=(6,6))\n",
    "plt.scatter(adata['invitro'].var.F_pval, adata['invitro'].var.K_pval, s=2)\n",
    "ax.set_xscale('log')\n",
    "ax.set_yscale('log')"
   ]
  },
  {
   "cell_type": "code",
   "execution_count": 37,
   "id": "364a82c1",
   "metadata": {},
   "outputs": [
    {
     "data": {
      "text/plain": [
       "gene_name\n",
       "LRRC28        8.880743e-58\n",
       "PLS3-1        1.667508e-54\n",
       "REG4          8.464216e-53\n",
       "AMICA1        8.199574e-52\n",
       "AC010970.2    4.236294e-43\n",
       "KLRC2         1.633467e-42\n",
       "CXCR6         1.818976e-40\n",
       "KLRC3         3.456316e-40\n",
       "KLRD1         2.097459e-38\n",
       "ANXA1         3.816226e-38\n",
       "CD2           1.899148e-37\n",
       "IL32          2.576189e-36\n",
       "TIMD4         6.301630e-36\n",
       "GPR15         9.530395e-36\n",
       "CCL4L1        4.117727e-35\n",
       "KLRB1         4.317542e-33\n",
       "MALAT1        1.795721e-32\n",
       "KLRC1         9.660744e-32\n",
       "ALOX5AP       1.133864e-30\n",
       "CCL3L1        3.336896e-29\n",
       "Name: F_pval, dtype: float64"
      ]
     },
     "execution_count": 37,
     "metadata": {},
     "output_type": "execute_result"
    }
   ],
   "source": [
    "adata['invitro'].var.F_pval.sort_values()[:20]"
   ]
  },
  {
   "cell_type": "markdown",
   "id": "f26aceb2",
   "metadata": {},
   "source": [
    "## Pathway annotation\n",
    "\n",
    "We annotate some genes based on a custom list of gene pathways."
   ]
  },
  {
   "cell_type": "code",
   "execution_count": 38,
   "id": "abe03c7e",
   "metadata": {},
   "outputs": [
    {
     "name": "stdout",
     "output_type": "stream",
     "text": [
      "Adding annotation for the following pathways: CD3/TCR Signaling, Cytotoxicity, Exhaustion, IL-2R Signaling, Ribosomal Processes, MT-genes, Mitochondrial Respiration, Interferon Signaling\n"
     ]
    }
   ],
   "source": [
    "pathway_df = pd.read_csv('Raw/Pathway_List_Feb182020_JEMcurated.csv')\n",
    "pathways = list(pathway_df.columns)\n",
    "print('Adding annotation for the following pathways: {}'.format(', '.join(pathways)))"
   ]
  },
  {
   "cell_type": "code",
   "execution_count": 39,
   "id": "0aac2e95",
   "metadata": {},
   "outputs": [],
   "source": [
    "def add_paths(ad):\n",
    "    ad_out = ad.copy()\n",
    "    ad_out.var['pathway'] = ''\n",
    "    for pathway in pathways:\n",
    "        pathgenes = pathway_df[pathway].dropna().values\n",
    "        for gene in pathgenes:\n",
    "            if gene in ad_out.var_names:\n",
    "                ad_out.var.loc[gene,'pathway'] = pathway\n",
    "    return ad_out\n",
    "    #[gene for gene in pathway_df[pathway].values if type(gene) == str]"
   ]
  },
  {
   "cell_type": "code",
   "execution_count": 40,
   "id": "95233ec3",
   "metadata": {},
   "outputs": [],
   "source": [
    "for ds in datasets:\n",
    "    adata[ds] = add_paths(adata[ds])"
   ]
  },
  {
   "cell_type": "markdown",
   "id": "5b0bcca5",
   "metadata": {},
   "source": [
    "# Saving data\n",
    "\n",
    "Don't forget to save the data!  Here we save data in loom files."
   ]
  },
  {
   "cell_type": "code",
   "execution_count": 41,
   "id": "a16a3339",
   "metadata": {},
   "outputs": [
    {
     "name": "stdout",
     "output_type": "stream",
     "text": [
      "Summary of invitro data\n",
      "AnnData object with n_obs × n_vars = 352 × 7440\n",
      "    obs: 'Condition', 'Cell_Number', 'Clone_ID', 'Day', 'In_Vivo_Clone_ID', 'Project_ID', 'n_genes_by_counts', 'log1p_n_genes_by_counts', 'total_counts', 'log1p_total_counts', 'total_counts_mt', 'log1p_total_counts_mt', 'pct_counts_mt', 'n_counts'\n",
      "    var: 'transcript_length', 'GC_content', 'gene_name', 'highly_variable', 'highly_variable_rank', 'means', 'variances', 'variances_norm', 'mt', 'n_cells_by_counts', 'mean_counts', 'log1p_mean_counts', 'pct_dropout_by_counts', 'total_counts', 'log1p_total_counts', 'on_ratio', 'F_pval', 'K_pval', 'chi2_pval', 'pathway'\n",
      "    uns: 'hvg', 'log1p'\n",
      "================================================================================\n",
      "Summary of invivo data\n",
      "AnnData object with n_obs × n_vars = 249 × 7055\n",
      "    obs: 'Condition', 'Cell_Number', 'Clone_ID', 'Day', 'In_Vivo_Clone_ID', 'Project_ID', 'n_genes_by_counts', 'log1p_n_genes_by_counts', 'total_counts', 'log1p_total_counts', 'total_counts_mt', 'log1p_total_counts_mt', 'pct_counts_mt', 'n_counts'\n",
      "    var: 'transcript_length', 'GC_content', 'gene_name', 'highly_variable', 'highly_variable_rank', 'means', 'variances', 'variances_norm', 'mt', 'n_cells_by_counts', 'mean_counts', 'log1p_mean_counts', 'pct_dropout_by_counts', 'total_counts', 'log1p_total_counts', 'on_ratio', 'F_pval', 'K_pval', 'chi2_pval', 'pathway'\n",
      "    uns: 'hvg', 'log1p'\n",
      "================================================================================\n",
      "Summary of bulks data\n",
      "AnnData object with n_obs × n_vars = 9 × 9084\n",
      "    obs: 'Condition', 'Cell_Number', 'Clone_ID', 'Day', 'In_Vivo_Clone_ID', 'Project_ID', 'n_genes_by_counts', 'log1p_n_genes_by_counts', 'total_counts', 'log1p_total_counts', 'total_counts_mt', 'log1p_total_counts_mt', 'pct_counts_mt'\n",
      "    var: 'transcript_length', 'GC_content', 'gene_name', 'highly_variable', 'highly_variable_rank', 'means', 'variances', 'variances_norm', 'mt', 'n_cells_by_counts', 'mean_counts', 'log1p_mean_counts', 'pct_dropout_by_counts', 'total_counts', 'log1p_total_counts', 'on_ratio', 'pathway'\n",
      "    uns: 'hvg', 'log1p'\n",
      "================================================================================\n"
     ]
    }
   ],
   "source": [
    "for ds in datasets:\n",
    "    print('Summary of {} data'.format(ds))\n",
    "    print(adata[ds])\n",
    "    hrule()"
   ]
  },
  {
   "cell_type": "code",
   "execution_count": 42,
   "id": "expanded-affair",
   "metadata": {},
   "outputs": [
    {
     "name": "stdout",
     "output_type": "stream",
     "text": [
      "Data written to Processed/P1902_invitro.loom\n",
      "Data written to Processed/P1902_invivo.loom\n",
      "Data written to Processed/P1902_bulks.loom\n"
     ]
    }
   ],
   "source": [
    "for ds in datasets:\n",
    "    filename = file_prefix+'P1902_'+ds+file_suffix\n",
    "    adata[ds].write_loom(filename)\n",
    "    print('Data written to {}'.format(filename))"
   ]
  },
  {
   "cell_type": "code",
   "execution_count": null,
   "id": "fdb06b2c",
   "metadata": {},
   "outputs": [],
   "source": []
  },
  {
   "cell_type": "code",
   "execution_count": null,
   "id": "eb36d30f",
   "metadata": {},
   "outputs": [],
   "source": []
  },
  {
   "cell_type": "code",
   "execution_count": null,
   "id": "de332576",
   "metadata": {},
   "outputs": [],
   "source": []
  },
  {
   "cell_type": "code",
   "execution_count": null,
   "id": "1e880ed0",
   "metadata": {},
   "outputs": [],
   "source": []
  },
  {
   "cell_type": "code",
   "execution_count": null,
   "id": "brown-caribbean",
   "metadata": {},
   "outputs": [],
   "source": []
  }
 ],
 "metadata": {
  "kernelspec": {
   "display_name": "Python 3",
   "language": "python",
   "name": "python3"
  },
  "language_info": {
   "codemirror_mode": {
    "name": "ipython",
    "version": 3
   },
   "file_extension": ".py",
   "mimetype": "text/x-python",
   "name": "python",
   "nbconvert_exporter": "python",
   "pygments_lexer": "ipython3",
   "version": "3.8.8"
  }
 },
 "nbformat": 4,
 "nbformat_minor": 5
}
